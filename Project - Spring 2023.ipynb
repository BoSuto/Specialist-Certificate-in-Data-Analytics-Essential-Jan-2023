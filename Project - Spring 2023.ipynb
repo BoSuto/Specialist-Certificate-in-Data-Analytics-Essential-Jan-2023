{
 "cells": [
  {
   "cell_type": "markdown",
   "id": "fd07dabe",
   "metadata": {},
   "source": [
    "DATASETS\n",
    "\n",
    "1. World Bank Open Data - Forest coverage (API)\n",
    "2. UN Data - Population by sex and urban/rural residence between 2000 - 2020 (csv)\n",
    "3. Food and Agriculture Organization of the United Nations (FAO) - FAOSTAT (csv)\n"
   ]
  },
  {
   "cell_type": "code",
   "execution_count": 1,
   "id": "f0074a11",
   "metadata": {},
   "outputs": [],
   "source": [
    "import numpy as np\n",
    "import pandas as pd\n",
    "import seaborn as sns\n",
    "import matplotlib.pyplot as plt"
   ]
  },
  {
   "cell_type": "markdown",
   "id": "6f0577c8",
   "metadata": {},
   "source": [
    "To access the World Bank Open Data API using Python, we installed the wbdata library"
   ]
  },
  {
   "cell_type": "code",
   "execution_count": 2,
   "id": "e76a003c",
   "metadata": {},
   "outputs": [
    {
     "name": "stdout",
     "output_type": "stream",
     "text": [
      "Requirement already satisfied: wbdata in c:\\users\\bogla_d7nsnlv\\anaconda3\\lib\\site-packages (0.3.0)\n",
      "Requirement already satisfied: decorator>=4.0 in c:\\users\\bogla_d7nsnlv\\anaconda3\\lib\\site-packages (from wbdata) (5.0.6)\n",
      "Requirement already satisfied: tabulate>=0.8.5 in c:\\users\\bogla_d7nsnlv\\anaconda3\\lib\\site-packages (from wbdata) (0.9.0)\n",
      "Requirement already satisfied: requests>=2.0 in c:\\users\\bogla_d7nsnlv\\anaconda3\\lib\\site-packages (from wbdata) (2.25.1)\n",
      "Requirement already satisfied: appdirs<2.0,>=1.4 in c:\\users\\bogla_d7nsnlv\\anaconda3\\lib\\site-packages (from wbdata) (1.4.4)\n",
      "Requirement already satisfied: chardet<5,>=3.0.2 in c:\\users\\bogla_d7nsnlv\\anaconda3\\lib\\site-packages (from requests>=2.0->wbdata) (4.0.0)\n",
      "Requirement already satisfied: idna<3,>=2.5 in c:\\users\\bogla_d7nsnlv\\anaconda3\\lib\\site-packages (from requests>=2.0->wbdata) (2.10)\n",
      "Requirement already satisfied: urllib3<1.27,>=1.21.1 in c:\\users\\bogla_d7nsnlv\\anaconda3\\lib\\site-packages (from requests>=2.0->wbdata) (1.26.4)\n",
      "Requirement already satisfied: certifi>=2017.4.17 in c:\\users\\bogla_d7nsnlv\\anaconda3\\lib\\site-packages (from requests>=2.0->wbdata) (2020.12.5)\n",
      "Note: you may need to restart the kernel to use updated packages.\n"
     ]
    }
   ],
   "source": [
    "pip install wbdata"
   ]
  },
  {
   "cell_type": "markdown",
   "id": "ce077537",
   "metadata": {},
   "source": [
    "Imported the data and looked at timeframe, countries and created the dataframe"
   ]
  },
  {
   "cell_type": "code",
   "execution_count": 3,
   "id": "83c06f2f",
   "metadata": {},
   "outputs": [
    {
     "name": "stdout",
     "output_type": "stream",
     "text": [
      "<class 'pandas.core.frame.DataFrame'>\n",
      "RangeIndex: 63 entries, 0 to 62\n",
      "Data columns (total 8 columns):\n",
      " #   Column           Non-Null Count  Dtype  \n",
      "---  ------           --------------  -----  \n",
      " 0   indicator        63 non-null     object \n",
      " 1   country          63 non-null     object \n",
      " 2   countryiso3code  63 non-null     object \n",
      " 3   date             63 non-null     object \n",
      " 4   value            63 non-null     float64\n",
      " 5   unit             63 non-null     object \n",
      " 6   obs_status       63 non-null     object \n",
      " 7   decimal          63 non-null     int64  \n",
      "dtypes: float64(1), int64(1), object(6)\n",
      "memory usage: 4.1+ KB\n"
     ]
    }
   ],
   "source": [
    "import wbdata\n",
    "import pandas as pd\n",
    "import datetime \n",
    "\n",
    "# Set the indicator code for forest coverage\n",
    "indicator_code = 'AG.LND.FRST.ZS'\n",
    "\n",
    "# Set the start and end year for the data\n",
    "start_year = 2000\n",
    "end_year = 2020\n",
    "\n",
    "# Set the countries to retrieve data for\n",
    "countries = ['USA', 'CAN', 'MEX']\n",
    "\n",
    "# Retrieve the data\n",
    "start_date = datetime.datetime(start_year, 1, 1)\n",
    "end_date = datetime.datetime(end_year, 12, 31)\n",
    "\n",
    "forest_data = wbdata.get_data(indicator_code, country=countries, data_date=(start_date, end_date))\n",
    "\n",
    "# Convert the data to a pandas DataFrame\n",
    "df = pd.DataFrame(forest_data)\n",
    "df.info()\n"
   ]
  },
  {
   "cell_type": "code",
   "execution_count": 4,
   "id": "e38c4f3a",
   "metadata": {
    "scrolled": true
   },
   "outputs": [
    {
     "data": {
      "text/html": [
       "<div>\n",
       "<style scoped>\n",
       "    .dataframe tbody tr th:only-of-type {\n",
       "        vertical-align: middle;\n",
       "    }\n",
       "\n",
       "    .dataframe tbody tr th {\n",
       "        vertical-align: top;\n",
       "    }\n",
       "\n",
       "    .dataframe thead th {\n",
       "        text-align: right;\n",
       "    }\n",
       "</style>\n",
       "<table border=\"1\" class=\"dataframe\">\n",
       "  <thead>\n",
       "    <tr style=\"text-align: right;\">\n",
       "      <th></th>\n",
       "      <th>indicator</th>\n",
       "      <th>country</th>\n",
       "      <th>countryiso3code</th>\n",
       "      <th>date</th>\n",
       "      <th>value</th>\n",
       "      <th>unit</th>\n",
       "      <th>obs_status</th>\n",
       "      <th>decimal</th>\n",
       "    </tr>\n",
       "  </thead>\n",
       "  <tbody>\n",
       "    <tr>\n",
       "      <th>0</th>\n",
       "      <td>{'id': 'AG.LND.FRST.ZS', 'value': 'Forest area...</td>\n",
       "      <td>{'id': 'CA', 'value': 'Canada'}</td>\n",
       "      <td>CAN</td>\n",
       "      <td>2020</td>\n",
       "      <td>38.695513</td>\n",
       "      <td></td>\n",
       "      <td></td>\n",
       "      <td>1</td>\n",
       "    </tr>\n",
       "    <tr>\n",
       "      <th>1</th>\n",
       "      <td>{'id': 'AG.LND.FRST.ZS', 'value': 'Forest area...</td>\n",
       "      <td>{'id': 'CA', 'value': 'Canada'}</td>\n",
       "      <td>CAN</td>\n",
       "      <td>2019</td>\n",
       "      <td>38.699637</td>\n",
       "      <td></td>\n",
       "      <td></td>\n",
       "      <td>1</td>\n",
       "    </tr>\n",
       "    <tr>\n",
       "      <th>2</th>\n",
       "      <td>{'id': 'AG.LND.FRST.ZS', 'value': 'Forest area...</td>\n",
       "      <td>{'id': 'CA', 'value': 'Canada'}</td>\n",
       "      <td>CAN</td>\n",
       "      <td>2018</td>\n",
       "      <td>38.703763</td>\n",
       "      <td></td>\n",
       "      <td></td>\n",
       "      <td>1</td>\n",
       "    </tr>\n",
       "    <tr>\n",
       "      <th>3</th>\n",
       "      <td>{'id': 'AG.LND.FRST.ZS', 'value': 'Forest area...</td>\n",
       "      <td>{'id': 'CA', 'value': 'Canada'}</td>\n",
       "      <td>CAN</td>\n",
       "      <td>2017</td>\n",
       "      <td>38.707888</td>\n",
       "      <td></td>\n",
       "      <td></td>\n",
       "      <td>1</td>\n",
       "    </tr>\n",
       "    <tr>\n",
       "      <th>4</th>\n",
       "      <td>{'id': 'AG.LND.FRST.ZS', 'value': 'Forest area...</td>\n",
       "      <td>{'id': 'CA', 'value': 'Canada'}</td>\n",
       "      <td>CAN</td>\n",
       "      <td>2016</td>\n",
       "      <td>38.712013</td>\n",
       "      <td></td>\n",
       "      <td></td>\n",
       "      <td>1</td>\n",
       "    </tr>\n",
       "  </tbody>\n",
       "</table>\n",
       "</div>"
      ],
      "text/plain": [
       "                                           indicator  \\\n",
       "0  {'id': 'AG.LND.FRST.ZS', 'value': 'Forest area...   \n",
       "1  {'id': 'AG.LND.FRST.ZS', 'value': 'Forest area...   \n",
       "2  {'id': 'AG.LND.FRST.ZS', 'value': 'Forest area...   \n",
       "3  {'id': 'AG.LND.FRST.ZS', 'value': 'Forest area...   \n",
       "4  {'id': 'AG.LND.FRST.ZS', 'value': 'Forest area...   \n",
       "\n",
       "                           country countryiso3code  date      value unit  \\\n",
       "0  {'id': 'CA', 'value': 'Canada'}             CAN  2020  38.695513        \n",
       "1  {'id': 'CA', 'value': 'Canada'}             CAN  2019  38.699637        \n",
       "2  {'id': 'CA', 'value': 'Canada'}             CAN  2018  38.703763        \n",
       "3  {'id': 'CA', 'value': 'Canada'}             CAN  2017  38.707888        \n",
       "4  {'id': 'CA', 'value': 'Canada'}             CAN  2016  38.712013        \n",
       "\n",
       "  obs_status  decimal  \n",
       "0                   1  \n",
       "1                   1  \n",
       "2                   1  \n",
       "3                   1  \n",
       "4                   1  "
      ]
     },
     "execution_count": 4,
     "metadata": {},
     "output_type": "execute_result"
    }
   ],
   "source": [
    "df.head()\n"
   ]
  },
  {
   "cell_type": "markdown",
   "id": "2eb5335c",
   "metadata": {},
   "source": [
    "checking average forest coverage for selected countries"
   ]
  },
  {
   "cell_type": "code",
   "execution_count": 5,
   "id": "449a0e16",
   "metadata": {},
   "outputs": [
    {
     "name": "stdout",
     "output_type": "stream",
     "text": [
      "Average forest coverage by country:\n",
      "countryiso3code\n",
      "CAN    38.741693\n",
      "MEX    34.463532\n",
      "USA    33.631871\n",
      "Name: value, dtype: float64\n"
     ]
    }
   ],
   "source": [
    "\n",
    "# Calculate the average forest coverage for each country\n",
    "avg_forest_coverage = df.groupby('countryiso3code')['value'].mean()\n",
    "\n",
    "# Print the average forest coverage for each country\n",
    "print('Average forest coverage by country:')\n",
    "print(avg_forest_coverage)\n"
   ]
  },
  {
   "cell_type": "markdown",
   "id": "b33645ae",
   "metadata": {},
   "source": [
    "checking min and max coverage "
   ]
  },
  {
   "cell_type": "code",
   "execution_count": 6,
   "id": "42d1c1a9",
   "metadata": {},
   "outputs": [
    {
     "name": "stdout",
     "output_type": "stream",
     "text": [
      "The country with the highest forest coverage is {'id': 'CA', 'value': 'Canada'} with a coverage of 38.79%.\n",
      "The country with the lowest forest coverage is {'id': 'US', 'value': 'United States'} with a coverage of 33.13%.\n"
     ]
    }
   ],
   "source": [
    "\n",
    "# Determine which country has the highest and lowest forest coverage\n",
    "max_coverage = df.loc[df['value'].idxmax()]\n",
    "min_coverage = df.loc[df['value'].idxmin()]\n",
    "\n",
    "# Print the country with the highest and lowest forest coverage\n",
    "print(f'The country with the highest forest coverage is {max_coverage[\"country\"]} with a coverage of {max_coverage[\"value\"]:.2f}%.')\n",
    "print(f'The country with the lowest forest coverage is {min_coverage[\"country\"]} with a coverage of {min_coverage[\"value\"]:.2f}%.')\n",
    "\n",
    "# Determine if any country has seen significant increases or decreases in forest coverage during the specified time period\n",
    "for country in countries:\n",
    "    country_data = df.loc[df['countryiso3code'] == country]\n",
    "    initial_coverage = country_data.loc[country_data['date'] == str(start_year)]['value'].values[0]\n",
    "    final_coverage = country_data.loc[country_data['date'] == str(end_year)]['value'].values[0]\n",
    "    change = final_coverage - initial_coverage\n",
    "    if abs(change) > 5:\n",
    "        if change > 0:\n",
    "            print(f'{country} has seen a significant increase in forest coverage of {change:.2f}% between {start_year} and {end_year}.')\n",
    "        else:\n",
    "            print(f'{country} has seen a significant decrease in forest coverage of {change:.2f}% between {start_year} and {end_year}.')\n",
    "\n",
    "\n"
   ]
  },
  {
   "cell_type": "code",
   "execution_count": 7,
   "id": "90f6bf8d",
   "metadata": {},
   "outputs": [],
   "source": [
    "# Retrieve the global forest coverage data for the specified time period\n",
    "global_forest_data = wbdata.get_data(indicator_code,  data_date=(start_date, end_date))\n",
    "\n"
   ]
  },
  {
   "cell_type": "code",
   "execution_count": 8,
   "id": "9220da39",
   "metadata": {},
   "outputs": [
    {
     "data": {
      "text/html": [
       "<div>\n",
       "<style scoped>\n",
       "    .dataframe tbody tr th:only-of-type {\n",
       "        vertical-align: middle;\n",
       "    }\n",
       "\n",
       "    .dataframe tbody tr th {\n",
       "        vertical-align: top;\n",
       "    }\n",
       "\n",
       "    .dataframe thead th {\n",
       "        text-align: right;\n",
       "    }\n",
       "</style>\n",
       "<table border=\"1\" class=\"dataframe\">\n",
       "  <thead>\n",
       "    <tr style=\"text-align: right;\">\n",
       "      <th></th>\n",
       "      <th>indicator</th>\n",
       "      <th>country</th>\n",
       "      <th>countryiso3code</th>\n",
       "      <th>date</th>\n",
       "      <th>value</th>\n",
       "      <th>unit</th>\n",
       "      <th>obs_status</th>\n",
       "      <th>decimal</th>\n",
       "    </tr>\n",
       "  </thead>\n",
       "  <tbody>\n",
       "    <tr>\n",
       "      <th>0</th>\n",
       "      <td>{'id': 'AG.LND.FRST.ZS', 'value': 'Forest area...</td>\n",
       "      <td>{'id': 'ZH', 'value': 'Africa Eastern and Sout...</td>\n",
       "      <td>AFE</td>\n",
       "      <td>2020</td>\n",
       "      <td>30.174186</td>\n",
       "      <td></td>\n",
       "      <td></td>\n",
       "      <td>1</td>\n",
       "    </tr>\n",
       "    <tr>\n",
       "      <th>1</th>\n",
       "      <td>{'id': 'AG.LND.FRST.ZS', 'value': 'Forest area...</td>\n",
       "      <td>{'id': 'ZH', 'value': 'Africa Eastern and Sout...</td>\n",
       "      <td>AFE</td>\n",
       "      <td>2019</td>\n",
       "      <td>30.391558</td>\n",
       "      <td></td>\n",
       "      <td></td>\n",
       "      <td>1</td>\n",
       "    </tr>\n",
       "    <tr>\n",
       "      <th>2</th>\n",
       "      <td>{'id': 'AG.LND.FRST.ZS', 'value': 'Forest area...</td>\n",
       "      <td>{'id': 'ZH', 'value': 'Africa Eastern and Sout...</td>\n",
       "      <td>AFE</td>\n",
       "      <td>2018</td>\n",
       "      <td>30.611444</td>\n",
       "      <td></td>\n",
       "      <td></td>\n",
       "      <td>1</td>\n",
       "    </tr>\n",
       "    <tr>\n",
       "      <th>3</th>\n",
       "      <td>{'id': 'AG.LND.FRST.ZS', 'value': 'Forest area...</td>\n",
       "      <td>{'id': 'ZH', 'value': 'Africa Eastern and Sout...</td>\n",
       "      <td>AFE</td>\n",
       "      <td>2017</td>\n",
       "      <td>30.824248</td>\n",
       "      <td></td>\n",
       "      <td></td>\n",
       "      <td>1</td>\n",
       "    </tr>\n",
       "    <tr>\n",
       "      <th>4</th>\n",
       "      <td>{'id': 'AG.LND.FRST.ZS', 'value': 'Forest area...</td>\n",
       "      <td>{'id': 'ZH', 'value': 'Africa Eastern and Sout...</td>\n",
       "      <td>AFE</td>\n",
       "      <td>2016</td>\n",
       "      <td>31.039613</td>\n",
       "      <td></td>\n",
       "      <td></td>\n",
       "      <td>1</td>\n",
       "    </tr>\n",
       "  </tbody>\n",
       "</table>\n",
       "</div>"
      ],
      "text/plain": [
       "                                           indicator  \\\n",
       "0  {'id': 'AG.LND.FRST.ZS', 'value': 'Forest area...   \n",
       "1  {'id': 'AG.LND.FRST.ZS', 'value': 'Forest area...   \n",
       "2  {'id': 'AG.LND.FRST.ZS', 'value': 'Forest area...   \n",
       "3  {'id': 'AG.LND.FRST.ZS', 'value': 'Forest area...   \n",
       "4  {'id': 'AG.LND.FRST.ZS', 'value': 'Forest area...   \n",
       "\n",
       "                                             country countryiso3code  date  \\\n",
       "0  {'id': 'ZH', 'value': 'Africa Eastern and Sout...             AFE  2020   \n",
       "1  {'id': 'ZH', 'value': 'Africa Eastern and Sout...             AFE  2019   \n",
       "2  {'id': 'ZH', 'value': 'Africa Eastern and Sout...             AFE  2018   \n",
       "3  {'id': 'ZH', 'value': 'Africa Eastern and Sout...             AFE  2017   \n",
       "4  {'id': 'ZH', 'value': 'Africa Eastern and Sout...             AFE  2016   \n",
       "\n",
       "       value unit obs_status  decimal  \n",
       "0  30.174186                        1  \n",
       "1  30.391558                        1  \n",
       "2  30.611444                        1  \n",
       "3  30.824248                        1  \n",
       "4  31.039613                        1  "
      ]
     },
     "execution_count": 8,
     "metadata": {},
     "output_type": "execute_result"
    }
   ],
   "source": [
    "global_forest_df = pd.DataFrame(global_forest_data)\n",
    "global_forest_df.head()"
   ]
  },
  {
   "cell_type": "code",
   "execution_count": 9,
   "id": "d57a516a",
   "metadata": {},
   "outputs": [
    {
     "name": "stdout",
     "output_type": "stream",
     "text": [
      "35.61236560761129\n",
      "The selected countries have higher than average forest coverage compared to the global average.\n"
     ]
    }
   ],
   "source": [
    "# Calculate the average global forest coverage for the specified time period\n",
    "global_avg_forest_coverage = df['value'].mean()\n",
    "print(global_avg_forest_coverage)\n",
    "\n",
    "# Compare the average forest coverage in the selected countries to the global average\n",
    "if avg_forest_coverage.mean() > global_avg_forest_coverage:\n",
    "    print('The selected countries have higher than average forest coverage compared to the global average.')\n",
    "elif avg_forest_coverage.mean() < global_avg_forest_coverage:\n",
    "    print('The selected countries have lower than average forest coverage compared to the global average.')\n",
    "else:\n",
    "    print('The selected countries have average forest coverage compared to the global average.')"
   ]
  },
  {
   "cell_type": "code",
   "execution_count": 10,
   "id": "be9b3d3d",
   "metadata": {},
   "outputs": [
    {
     "name": "stdout",
     "output_type": "stream",
     "text": [
      "Requirement already satisfied: pycountry in c:\\users\\bogla_d7nsnlv\\anaconda3\\lib\\site-packages (22.3.5)\n",
      "Requirement already satisfied: pycountry_convert in c:\\users\\bogla_d7nsnlv\\anaconda3\\lib\\site-packages (0.7.2)\n",
      "Requirement already satisfied: setuptools in c:\\users\\bogla_d7nsnlv\\anaconda3\\lib\\site-packages (from pycountry) (52.0.0.post20210125)\n",
      "Requirement already satisfied: wheel>=0.30.0 in c:\\users\\bogla_d7nsnlv\\anaconda3\\lib\\site-packages (from pycountry_convert) (0.36.2)\n",
      "Requirement already satisfied: pprintpp>=0.3.0 in c:\\users\\bogla_d7nsnlv\\anaconda3\\lib\\site-packages (from pycountry_convert) (0.4.0)\n",
      "Requirement already satisfied: pytest-cov>=2.5.1 in c:\\users\\bogla_d7nsnlv\\anaconda3\\lib\\site-packages (from pycountry_convert) (4.0.0)\n",
      "Requirement already satisfied: repoze.lru>=0.7 in c:\\users\\bogla_d7nsnlv\\anaconda3\\lib\\site-packages (from pycountry_convert) (0.7)\n",
      "Requirement already satisfied: pytest>=3.4.0 in c:\\users\\bogla_d7nsnlv\\anaconda3\\lib\\site-packages (from pycountry_convert) (6.2.3)\n",
      "Requirement already satisfied: pytest-mock>=1.6.3 in c:\\users\\bogla_d7nsnlv\\anaconda3\\lib\\site-packages (from pycountry_convert) (3.10.0)\n",
      "Requirement already satisfied: attrs>=19.2.0 in c:\\users\\bogla_d7nsnlv\\anaconda3\\lib\\site-packages (from pytest>=3.4.0->pycountry_convert) (20.3.0)\n",
      "Requirement already satisfied: iniconfig in c:\\users\\bogla_d7nsnlv\\anaconda3\\lib\\site-packages (from pytest>=3.4.0->pycountry_convert) (1.1.1)\n",
      "Requirement already satisfied: packaging in c:\\users\\bogla_d7nsnlv\\anaconda3\\lib\\site-packages (from pytest>=3.4.0->pycountry_convert) (20.9)\n",
      "Requirement already satisfied: pluggy<1.0.0a1,>=0.12 in c:\\users\\bogla_d7nsnlv\\anaconda3\\lib\\site-packages (from pytest>=3.4.0->pycountry_convert) (0.13.1)\n",
      "Requirement already satisfied: py>=1.8.2 in c:\\users\\bogla_d7nsnlv\\anaconda3\\lib\\site-packages (from pytest>=3.4.0->pycountry_convert) (1.10.0)\n",
      "Requirement already satisfied: toml in c:\\users\\bogla_d7nsnlv\\anaconda3\\lib\\site-packages (from pytest>=3.4.0->pycountry_convert) (0.10.2)\n",
      "Requirement already satisfied: atomicwrites>=1.0 in c:\\users\\bogla_d7nsnlv\\anaconda3\\lib\\site-packages (from pytest>=3.4.0->pycountry_convert) (1.4.0)\n",
      "Requirement already satisfied: colorama in c:\\users\\bogla_d7nsnlv\\anaconda3\\lib\\site-packages (from pytest>=3.4.0->pycountry_convert) (0.4.4)\n",
      "Requirement already satisfied: coverage[toml]>=5.2.1 in c:\\users\\bogla_d7nsnlv\\anaconda3\\lib\\site-packages (from pytest-cov>=2.5.1->pycountry_convert) (7.2.3)\n",
      "Requirement already satisfied: tomli in c:\\users\\bogla_d7nsnlv\\anaconda3\\lib\\site-packages (from coverage[toml]>=5.2.1->pytest-cov>=2.5.1->pycountry_convert) (2.0.1)\n",
      "Requirement already satisfied: pyparsing>=2.0.2 in c:\\users\\bogla_d7nsnlv\\anaconda3\\lib\\site-packages (from packaging->pytest>=3.4.0->pycountry_convert) (2.4.7)\n",
      "Note: you may need to restart the kernel to use updated packages.\n"
     ]
    }
   ],
   "source": [
    "pip install pycountry pycountry_convert"
   ]
  },
  {
   "cell_type": "code",
   "execution_count": 11,
   "id": "e201419f",
   "metadata": {},
   "outputs": [
    {
     "name": "stdout",
     "output_type": "stream",
     "text": [
      "{'ABW': 'North America', 'AFG': 'Asia', 'AGO': 'Africa', 'AIA': 'North America', 'ALA': 'Europe', 'ALB': 'Europe', 'AND': 'Europe', 'ARE': 'Asia', 'ARG': 'South America', 'ARM': 'Asia', 'ASM': 'Oceania', 'ATG': 'North America', 'AUS': 'Oceania', 'AUT': 'Europe', 'AZE': 'Asia', 'BDI': 'Africa', 'BEL': 'Europe', 'BEN': 'Africa', 'BES': 'North America', 'BFA': 'Africa', 'BGD': 'Asia', 'BGR': 'Europe', 'BHR': 'Asia', 'BHS': 'North America', 'BIH': 'Europe', 'BLM': 'North America', 'BLR': 'Europe', 'BLZ': 'North America', 'BMU': 'North America', 'BOL': 'South America', 'BRA': 'South America', 'BRB': 'North America', 'BRN': 'Asia', 'BTN': 'Asia', 'BVT': 'Antarctica', 'BWA': 'Africa', 'CAF': 'Africa', 'CAN': 'North America', 'CCK': 'Asia', 'CHE': 'Europe', 'CHL': 'South America', 'CHN': 'Asia', 'CIV': 'Africa', 'CMR': 'Africa', 'COD': 'Africa', 'COG': 'Africa', 'COK': 'Oceania', 'COL': 'South America', 'COM': 'Africa', 'CPV': 'Africa', 'CRI': 'North America', 'CUB': 'North America', 'CUW': 'North America', 'CXR': 'Asia', 'CYM': 'North America', 'CYP': 'Asia', 'CZE': 'Europe', 'DEU': 'Europe', 'DJI': 'Africa', 'DMA': 'North America', 'DNK': 'Europe', 'DOM': 'North America', 'DZA': 'Africa', 'ECU': 'South America', 'EGY': 'Africa', 'ERI': 'Africa', 'ESP': 'Europe', 'EST': 'Europe', 'ETH': 'Africa', 'FIN': 'Europe', 'FJI': 'Oceania', 'FLK': 'South America', 'FRA': 'Europe', 'FRO': 'Europe', 'FSM': 'Oceania', 'GAB': 'Africa', 'GBR': 'Europe', 'GEO': 'Asia', 'GGY': 'Europe', 'GHA': 'Africa', 'GIB': 'Europe', 'GIN': 'Africa', 'GLP': 'North America', 'GMB': 'Africa', 'GNB': 'Africa', 'GNQ': 'Africa', 'GRC': 'Europe', 'GRD': 'North America', 'GRL': 'North America', 'GTM': 'North America', 'GUF': 'South America', 'GUM': 'Oceania', 'GUY': 'South America', 'HKG': 'Asia', 'HMD': 'Antarctica', 'HND': 'North America', 'HRV': 'Europe', 'HTI': 'North America', 'HUN': 'Europe', 'IDN': 'Asia', 'IMN': 'Europe', 'IND': 'Asia', 'IOT': 'Asia', 'IRL': 'Europe', 'IRN': 'Asia', 'IRQ': 'Asia', 'ISL': 'Europe', 'ISR': 'Asia', 'ITA': 'Europe', 'JAM': 'North America', 'JEY': 'Europe', 'JOR': 'Asia', 'JPN': 'Asia', 'KAZ': 'Asia', 'KEN': 'Africa', 'KGZ': 'Asia', 'KHM': 'Asia', 'KIR': 'Oceania', 'KNA': 'North America', 'KOR': 'Asia', 'KWT': 'Asia', 'LAO': 'Asia', 'LBN': 'Asia', 'LBR': 'Africa', 'LBY': 'Africa', 'LCA': 'North America', 'LIE': 'Europe', 'LKA': 'Asia', 'LSO': 'Africa', 'LTU': 'Europe', 'LUX': 'Europe', 'LVA': 'Europe', 'MAC': 'Asia', 'MAF': 'North America', 'MAR': 'Africa', 'MCO': 'Europe', 'MDA': 'Europe', 'MDG': 'Africa', 'MDV': 'Asia', 'MEX': 'North America', 'MHL': 'Oceania', 'MKD': 'Europe', 'MLI': 'Africa', 'MLT': 'Europe', 'MMR': 'Asia', 'MNE': 'Europe', 'MNG': 'Asia', 'MNP': 'Oceania', 'MOZ': 'Africa', 'MRT': 'Africa', 'MSR': 'North America', 'MTQ': 'North America', 'MUS': 'Africa', 'MWI': 'Africa', 'MYS': 'Asia', 'MYT': 'Africa', 'NAM': 'Africa', 'NCL': 'Oceania', 'NER': 'Africa', 'NFK': 'Oceania', 'NGA': 'Africa', 'NIC': 'North America', 'NIU': 'Oceania', 'NLD': 'Europe', 'NOR': 'Europe', 'NPL': 'Asia', 'NRU': 'Oceania', 'NZL': 'Oceania', 'OMN': 'Asia', 'PAK': 'Asia', 'PAN': 'North America', 'PER': 'South America', 'PHL': 'Asia', 'PLW': 'Oceania', 'PNG': 'Oceania', 'POL': 'Europe', 'PRI': 'North America', 'PRK': 'Asia', 'PRT': 'Europe', 'PRY': 'South America', 'PSE': 'Asia', 'PYF': 'Oceania', 'QAT': 'Asia', 'REU': 'Africa', 'ROU': 'Europe', 'RUS': 'Europe', 'RWA': 'Africa', 'SAU': 'Asia', 'SDN': 'Africa', 'SEN': 'Africa', 'SGP': 'Asia', 'SGS': 'South America', 'SHN': 'Africa', 'SJM': 'Europe', 'SLB': 'Oceania', 'SLE': 'Africa', 'SLV': 'North America', 'SMR': 'Europe', 'SOM': 'Africa', 'SPM': 'North America', 'SRB': 'Europe', 'SSD': 'Africa', 'STP': 'Africa', 'SUR': 'South America', 'SVK': 'Europe', 'SVN': 'Europe', 'SWE': 'Europe', 'SWZ': 'Africa', 'SYC': 'Africa', 'SYR': 'Asia', 'TCA': 'North America', 'TCD': 'Africa', 'TGO': 'Africa', 'THA': 'Asia', 'TJK': 'Asia', 'TKL': 'Oceania', 'TKM': 'Asia', 'TON': 'Oceania', 'TTO': 'North America', 'TUN': 'Africa', 'TUR': 'Asia', 'TUV': 'Oceania', 'TWN': 'Asia', 'TZA': 'Africa', 'UGA': 'Africa', 'UKR': 'Europe', 'URY': 'South America', 'USA': 'North America', 'UZB': 'Asia', 'VCT': 'North America', 'VEN': 'South America', 'VGB': 'North America', 'VIR': 'North America', 'VNM': 'Asia', 'VUT': 'Oceania', 'WLF': 'Oceania', 'WSM': 'Oceania', 'YEM': 'Asia', 'ZAF': 'Africa', 'ZMB': 'Africa', 'ZWE': 'Africa'}\n"
     ]
    }
   ],
   "source": [
    "import pycountry\n",
    "import pycountry_convert as pc\n",
    "\n",
    "def country_to_continent (country_alpha2):        \n",
    "    continent_code = pc.country_alpha2_to_continent_code (country_alpha2)    \n",
    "    continent_name = pc.convert_continent_code_to_continent_name(continent_code)\n",
    "    return continent_name\n",
    "\n",
    "# Create a lookup table mapping country codes to continents\n",
    "country_code_to_continent = {}\n",
    "for country in pycountry.countries:  \n",
    "    try:\n",
    "        continent = country_to_continent(country.alpha_2)        \n",
    "        country_code_to_continent[country.alpha_3]= continent         \n",
    "    except:\n",
    "        pass\n",
    "print(country_code_to_continent)\n"
   ]
  },
  {
   "cell_type": "code",
   "execution_count": 12,
   "id": "2c5e09ae",
   "metadata": {},
   "outputs": [
    {
     "name": "stdout",
     "output_type": "stream",
     "text": [
      "continent\n",
      "Africa           28.969330\n",
      "Asia             22.960607\n",
      "Europe           30.304611\n",
      "North America    37.713132\n",
      "Oceania          49.680202\n",
      "South America    51.244379\n",
      "Name: value, dtype: float64\n",
      "<class 'pandas.core.frame.DataFrame'>\n",
      "RangeIndex: 5586 entries, 0 to 5585\n",
      "Data columns (total 9 columns):\n",
      " #   Column           Non-Null Count  Dtype  \n",
      "---  ------           --------------  -----  \n",
      " 0   indicator        5586 non-null   object \n",
      " 1   country          5586 non-null   object \n",
      " 2   countryiso3code  5586 non-null   object \n",
      " 3   date             5586 non-null   object \n",
      " 4   value            5420 non-null   float64\n",
      " 5   unit             5586 non-null   object \n",
      " 6   obs_status       5586 non-null   object \n",
      " 7   decimal          5586 non-null   int64  \n",
      " 8   continent        4473 non-null   object \n",
      "dtypes: float64(1), int64(1), object(7)\n",
      "memory usage: 392.9+ KB\n"
     ]
    }
   ],
   "source": [
    "# add continent data to dataframe\n",
    "\n",
    "global_forest_df['continent'] = global_forest_df['countryiso3code'].map(country_code_to_continent)\n",
    "avg_forest_coverage_by_continent = global_forest_df.groupby('continent')['value'].mean()\n",
    "print(avg_forest_coverage_by_continent)\n",
    "global_forest_df.info()"
   ]
  },
  {
   "cell_type": "markdown",
   "id": "26e8e9b3",
   "metadata": {},
   "source": [
    "UN Data on Population by sex and urban/rural residence between 2000 - 2020"
   ]
  },
  {
   "cell_type": "code",
   "execution_count": 13,
   "id": "a0ef35a4",
   "metadata": {
    "scrolled": true
   },
   "outputs": [
    {
     "data": {
      "text/html": [
       "<div>\n",
       "<style scoped>\n",
       "    .dataframe tbody tr th:only-of-type {\n",
       "        vertical-align: middle;\n",
       "    }\n",
       "\n",
       "    .dataframe tbody tr th {\n",
       "        vertical-align: top;\n",
       "    }\n",
       "\n",
       "    .dataframe thead th {\n",
       "        text-align: right;\n",
       "    }\n",
       "</style>\n",
       "<table border=\"1\" class=\"dataframe\">\n",
       "  <thead>\n",
       "    <tr style=\"text-align: right;\">\n",
       "      <th></th>\n",
       "      <th>Year</th>\n",
       "      <th>Area</th>\n",
       "      <th>Sex</th>\n",
       "      <th>Record Type</th>\n",
       "      <th>Reliability</th>\n",
       "      <th>Source Year</th>\n",
       "      <th>Value</th>\n",
       "      <th>Value Footnotes</th>\n",
       "    </tr>\n",
       "    <tr>\n",
       "      <th>Country or Area</th>\n",
       "      <th></th>\n",
       "      <th></th>\n",
       "      <th></th>\n",
       "      <th></th>\n",
       "      <th></th>\n",
       "      <th></th>\n",
       "      <th></th>\n",
       "      <th></th>\n",
       "    </tr>\n",
       "  </thead>\n",
       "  <tbody>\n",
       "    <tr>\n",
       "      <th>Afghanistan</th>\n",
       "      <td>2020</td>\n",
       "      <td>Total</td>\n",
       "      <td>Both Sexes</td>\n",
       "      <td>Estimate - de facto</td>\n",
       "      <td>Final figure, incomplete/questionable reliability</td>\n",
       "      <td>2021.0</td>\n",
       "      <td>31390171.0</td>\n",
       "      <td>1</td>\n",
       "    </tr>\n",
       "    <tr>\n",
       "      <th>Afghanistan</th>\n",
       "      <td>2019</td>\n",
       "      <td>Total</td>\n",
       "      <td>Both Sexes</td>\n",
       "      <td>Estimate - de facto</td>\n",
       "      <td>Final figure, incomplete/questionable reliability</td>\n",
       "      <td>2019.0</td>\n",
       "      <td>30725560.0</td>\n",
       "      <td>1</td>\n",
       "    </tr>\n",
       "    <tr>\n",
       "      <th>Afghanistan</th>\n",
       "      <td>2018</td>\n",
       "      <td>Total</td>\n",
       "      <td>Both Sexes</td>\n",
       "      <td>Estimate - de facto</td>\n",
       "      <td>Final figure, incomplete/questionable reliability</td>\n",
       "      <td>2019.0</td>\n",
       "      <td>30075018.0</td>\n",
       "      <td>1</td>\n",
       "    </tr>\n",
       "    <tr>\n",
       "      <th>Afghanistan</th>\n",
       "      <td>2017</td>\n",
       "      <td>Total</td>\n",
       "      <td>Both Sexes</td>\n",
       "      <td>Estimate - de facto</td>\n",
       "      <td>Final figure, incomplete/questionable reliability</td>\n",
       "      <td>2018.0</td>\n",
       "      <td>28224323.0</td>\n",
       "      <td>1</td>\n",
       "    </tr>\n",
       "    <tr>\n",
       "      <th>Afghanistan</th>\n",
       "      <td>2016</td>\n",
       "      <td>Total</td>\n",
       "      <td>Both Sexes</td>\n",
       "      <td>Estimate - de facto</td>\n",
       "      <td>Final figure, incomplete/questionable reliability</td>\n",
       "      <td>2017.0</td>\n",
       "      <td>27657145.0</td>\n",
       "      <td>1</td>\n",
       "    </tr>\n",
       "  </tbody>\n",
       "</table>\n",
       "</div>"
      ],
      "text/plain": [
       "                 Year   Area         Sex          Record Type  \\\n",
       "Country or Area                                                 \n",
       "Afghanistan      2020  Total  Both Sexes  Estimate - de facto   \n",
       "Afghanistan      2019  Total  Both Sexes  Estimate - de facto   \n",
       "Afghanistan      2018  Total  Both Sexes  Estimate - de facto   \n",
       "Afghanistan      2017  Total  Both Sexes  Estimate - de facto   \n",
       "Afghanistan      2016  Total  Both Sexes  Estimate - de facto   \n",
       "\n",
       "                                                       Reliability  \\\n",
       "Country or Area                                                      \n",
       "Afghanistan      Final figure, incomplete/questionable reliability   \n",
       "Afghanistan      Final figure, incomplete/questionable reliability   \n",
       "Afghanistan      Final figure, incomplete/questionable reliability   \n",
       "Afghanistan      Final figure, incomplete/questionable reliability   \n",
       "Afghanistan      Final figure, incomplete/questionable reliability   \n",
       "\n",
       "                 Source Year       Value Value Footnotes  \n",
       "Country or Area                                           \n",
       "Afghanistan           2021.0  31390171.0               1  \n",
       "Afghanistan           2019.0  30725560.0               1  \n",
       "Afghanistan           2019.0  30075018.0               1  \n",
       "Afghanistan           2018.0  28224323.0               1  \n",
       "Afghanistan           2017.0  27657145.0               1  "
      ]
     },
     "execution_count": 13,
     "metadata": {},
     "output_type": "execute_result"
    }
   ],
   "source": [
    "population = pd.read_csv(\"population_by_sex_residence.csv\", index_col = 0)\n",
    "population.head()"
   ]
  },
  {
   "cell_type": "code",
   "execution_count": 14,
   "id": "7c3a19f5",
   "metadata": {},
   "outputs": [
    {
     "data": {
      "text/html": [
       "<div>\n",
       "<style scoped>\n",
       "    .dataframe tbody tr th:only-of-type {\n",
       "        vertical-align: middle;\n",
       "    }\n",
       "\n",
       "    .dataframe tbody tr th {\n",
       "        vertical-align: top;\n",
       "    }\n",
       "\n",
       "    .dataframe thead th {\n",
       "        text-align: right;\n",
       "    }\n",
       "</style>\n",
       "<table border=\"1\" class=\"dataframe\">\n",
       "  <thead>\n",
       "    <tr style=\"text-align: right;\">\n",
       "      <th></th>\n",
       "      <th>Country or Area</th>\n",
       "      <th>Year</th>\n",
       "      <th>Area</th>\n",
       "      <th>Sex</th>\n",
       "      <th>Record Type</th>\n",
       "      <th>Reliability</th>\n",
       "      <th>Source Year</th>\n",
       "      <th>Value</th>\n",
       "      <th>Value Footnotes</th>\n",
       "    </tr>\n",
       "  </thead>\n",
       "  <tbody>\n",
       "    <tr>\n",
       "      <th>0</th>\n",
       "      <td>Afghanistan</td>\n",
       "      <td>2020</td>\n",
       "      <td>Total</td>\n",
       "      <td>Both Sexes</td>\n",
       "      <td>Estimate - de facto</td>\n",
       "      <td>Final figure, incomplete/questionable reliability</td>\n",
       "      <td>2021.0</td>\n",
       "      <td>31390171.0</td>\n",
       "      <td>1</td>\n",
       "    </tr>\n",
       "    <tr>\n",
       "      <th>1</th>\n",
       "      <td>Afghanistan</td>\n",
       "      <td>2019</td>\n",
       "      <td>Total</td>\n",
       "      <td>Both Sexes</td>\n",
       "      <td>Estimate - de facto</td>\n",
       "      <td>Final figure, incomplete/questionable reliability</td>\n",
       "      <td>2019.0</td>\n",
       "      <td>30725560.0</td>\n",
       "      <td>1</td>\n",
       "    </tr>\n",
       "    <tr>\n",
       "      <th>2</th>\n",
       "      <td>Afghanistan</td>\n",
       "      <td>2018</td>\n",
       "      <td>Total</td>\n",
       "      <td>Both Sexes</td>\n",
       "      <td>Estimate - de facto</td>\n",
       "      <td>Final figure, incomplete/questionable reliability</td>\n",
       "      <td>2019.0</td>\n",
       "      <td>30075018.0</td>\n",
       "      <td>1</td>\n",
       "    </tr>\n",
       "    <tr>\n",
       "      <th>3</th>\n",
       "      <td>Afghanistan</td>\n",
       "      <td>2017</td>\n",
       "      <td>Total</td>\n",
       "      <td>Both Sexes</td>\n",
       "      <td>Estimate - de facto</td>\n",
       "      <td>Final figure, incomplete/questionable reliability</td>\n",
       "      <td>2018.0</td>\n",
       "      <td>28224323.0</td>\n",
       "      <td>1</td>\n",
       "    </tr>\n",
       "    <tr>\n",
       "      <th>4</th>\n",
       "      <td>Afghanistan</td>\n",
       "      <td>2016</td>\n",
       "      <td>Total</td>\n",
       "      <td>Both Sexes</td>\n",
       "      <td>Estimate - de facto</td>\n",
       "      <td>Final figure, incomplete/questionable reliability</td>\n",
       "      <td>2017.0</td>\n",
       "      <td>27657145.0</td>\n",
       "      <td>1</td>\n",
       "    </tr>\n",
       "  </tbody>\n",
       "</table>\n",
       "</div>"
      ],
      "text/plain": [
       "  Country or Area  Year   Area         Sex          Record Type  \\\n",
       "0     Afghanistan  2020  Total  Both Sexes  Estimate - de facto   \n",
       "1     Afghanistan  2019  Total  Both Sexes  Estimate - de facto   \n",
       "2     Afghanistan  2018  Total  Both Sexes  Estimate - de facto   \n",
       "3     Afghanistan  2017  Total  Both Sexes  Estimate - de facto   \n",
       "4     Afghanistan  2016  Total  Both Sexes  Estimate - de facto   \n",
       "\n",
       "                                         Reliability  Source Year       Value  \\\n",
       "0  Final figure, incomplete/questionable reliability       2021.0  31390171.0   \n",
       "1  Final figure, incomplete/questionable reliability       2019.0  30725560.0   \n",
       "2  Final figure, incomplete/questionable reliability       2019.0  30075018.0   \n",
       "3  Final figure, incomplete/questionable reliability       2018.0  28224323.0   \n",
       "4  Final figure, incomplete/questionable reliability       2017.0  27657145.0   \n",
       "\n",
       "  Value Footnotes  \n",
       "0               1  \n",
       "1               1  \n",
       "2               1  \n",
       "3               1  \n",
       "4               1  "
      ]
     },
     "execution_count": 14,
     "metadata": {},
     "output_type": "execute_result"
    }
   ],
   "source": [
    "population.columns\n",
    "population.reset_index(inplace=True)\n",
    "population.columns\n",
    "population.head()"
   ]
  },
  {
   "cell_type": "code",
   "execution_count": 15,
   "id": "d1aee63d",
   "metadata": {},
   "outputs": [],
   "source": [
    "population = population.filter(items=['Country or Area','Year','Reliability','Value']).loc[(population['Reliability']=='Final figure, complete')]\n",
    "population['Year'] = population['Year'].astype(int)\n",
    "population = population.loc[(population['Year']>=2000) & (population['Year']<2021)]"
   ]
  },
  {
   "cell_type": "code",
   "execution_count": 16,
   "id": "b0d446ed",
   "metadata": {
    "scrolled": false
   },
   "outputs": [
    {
     "data": {
      "text/html": [
       "<div>\n",
       "<style scoped>\n",
       "    .dataframe tbody tr th:only-of-type {\n",
       "        vertical-align: middle;\n",
       "    }\n",
       "\n",
       "    .dataframe tbody tr th {\n",
       "        vertical-align: top;\n",
       "    }\n",
       "\n",
       "    .dataframe thead th {\n",
       "        text-align: right;\n",
       "    }\n",
       "</style>\n",
       "<table border=\"1\" class=\"dataframe\">\n",
       "  <thead>\n",
       "    <tr style=\"text-align: right;\">\n",
       "      <th></th>\n",
       "      <th>Country or Area</th>\n",
       "      <th>Year</th>\n",
       "      <th>Reliability</th>\n",
       "      <th>population value</th>\n",
       "      <th>continent</th>\n",
       "    </tr>\n",
       "  </thead>\n",
       "  <tbody>\n",
       "    <tr>\n",
       "      <th>21</th>\n",
       "      <td>Åland Islands</td>\n",
       "      <td>2020</td>\n",
       "      <td>Final figure, complete</td>\n",
       "      <td>30005.5</td>\n",
       "      <td>Europe</td>\n",
       "    </tr>\n",
       "    <tr>\n",
       "      <th>22</th>\n",
       "      <td>Åland Islands</td>\n",
       "      <td>2019</td>\n",
       "      <td>Final figure, complete</td>\n",
       "      <td>29836.5</td>\n",
       "      <td>Europe</td>\n",
       "    </tr>\n",
       "    <tr>\n",
       "      <th>23</th>\n",
       "      <td>Åland Islands</td>\n",
       "      <td>2018</td>\n",
       "      <td>Final figure, complete</td>\n",
       "      <td>29638.0</td>\n",
       "      <td>Europe</td>\n",
       "    </tr>\n",
       "    <tr>\n",
       "      <th>24</th>\n",
       "      <td>Åland Islands</td>\n",
       "      <td>2017</td>\n",
       "      <td>Final figure, complete</td>\n",
       "      <td>29352.0</td>\n",
       "      <td>Europe</td>\n",
       "    </tr>\n",
       "    <tr>\n",
       "      <th>25</th>\n",
       "      <td>Åland Islands</td>\n",
       "      <td>2016</td>\n",
       "      <td>Final figure, complete</td>\n",
       "      <td>29099.0</td>\n",
       "      <td>Europe</td>\n",
       "    </tr>\n",
       "  </tbody>\n",
       "</table>\n",
       "</div>"
      ],
      "text/plain": [
       "   Country or Area  Year             Reliability  population value continent\n",
       "21   Åland Islands  2020  Final figure, complete           30005.5    Europe\n",
       "22   Åland Islands  2019  Final figure, complete           29836.5    Europe\n",
       "23   Åland Islands  2018  Final figure, complete           29638.0    Europe\n",
       "24   Åland Islands  2017  Final figure, complete           29352.0    Europe\n",
       "25   Åland Islands  2016  Final figure, complete           29099.0    Europe"
      ]
     },
     "execution_count": 16,
     "metadata": {},
     "output_type": "execute_result"
    }
   ],
   "source": [
    "def country_name_to_continent (country_name):        \n",
    "    try:\n",
    "        country_code = pc.country_name_to_country_alpha2(country_name)    \n",
    "        continent_name = country_to_continent(country_code)\n",
    "        return continent_name\n",
    "    except:        \n",
    "        pass\n",
    "\n",
    "population['continent'] = population['Country or Area'].map(country_name_to_continent)\n",
    "population=population.rename(columns={'Value':'population value'})\n",
    "population.head()\n"
   ]
  },
  {
   "cell_type": "code",
   "execution_count": 26,
   "id": "a562f8c0",
   "metadata": {},
   "outputs": [
    {
     "name": "stdout",
     "output_type": "stream",
     "text": [
      "<class 'pandas.core.frame.DataFrame'>\n",
      "RangeIndex: 126 entries, 0 to 125\n",
      "Data columns (total 3 columns):\n",
      " #   Column            Non-Null Count  Dtype  \n",
      "---  ------            --------------  -----  \n",
      " 0   Year              126 non-null    int64  \n",
      " 1   continent         126 non-null    object \n",
      " 2   population value  126 non-null    float64\n",
      "dtypes: float64(1), int64(1), object(1)\n",
      "memory usage: 3.1+ KB\n"
     ]
    }
   ],
   "source": [
    "continent_population_data = population.groupby(['Year', 'continent']).sum('Value')\n",
    "continent_population_data.reset_index(inplace=True)\n",
    "continent_population_data.info()\n",
    "\n"
   ]
  },
  {
   "cell_type": "code",
   "execution_count": 28,
   "id": "7969b2e6",
   "metadata": {},
   "outputs": [
    {
     "name": "stdout",
     "output_type": "stream",
     "text": [
      "<class 'pandas.core.frame.DataFrame'>\n",
      "RangeIndex: 126 entries, 0 to 125\n",
      "Data columns (total 5 columns):\n",
      " #   Column           Non-Null Count  Dtype  \n",
      "---  ------           --------------  -----  \n",
      " 0   date             126 non-null    object \n",
      " 1   continent        126 non-null    object \n",
      " 2   forest coverage  126 non-null    float64\n",
      " 3   decimal          126 non-null    int64  \n",
      " 4   Year             126 non-null    int32  \n",
      "dtypes: float64(1), int32(1), int64(1), object(2)\n",
      "memory usage: 4.6+ KB\n"
     ]
    }
   ],
   "source": [
    "continent_forest_data = global_forest_df.groupby(['date', 'continent']).sum('value')\n",
    "continent_forest_data.reset_index(inplace=True)\n",
    "continent_forest_data['Year'] = continent_forest_data['date'].astype(int)\n",
    "continent_forest_data=continent_forest_data.rename(columns={'value':'forest coverage'})\n",
    "continent_forest_data.info()"
   ]
  },
  {
   "cell_type": "markdown",
   "id": "00a7369e",
   "metadata": {},
   "source": [
    "Third dataset on food production"
   ]
  },
  {
   "cell_type": "code",
   "execution_count": 30,
   "id": "9cb36d00",
   "metadata": {},
   "outputs": [
    {
     "name": "stdout",
     "output_type": "stream",
     "text": [
      "(126, 6)\n"
     ]
    },
    {
     "data": {
      "text/html": [
       "<div>\n",
       "<style scoped>\n",
       "    .dataframe tbody tr th:only-of-type {\n",
       "        vertical-align: middle;\n",
       "    }\n",
       "\n",
       "    .dataframe tbody tr th {\n",
       "        vertical-align: top;\n",
       "    }\n",
       "\n",
       "    .dataframe thead th {\n",
       "        text-align: right;\n",
       "    }\n",
       "</style>\n",
       "<table border=\"1\" class=\"dataframe\">\n",
       "  <thead>\n",
       "    <tr style=\"text-align: right;\">\n",
       "      <th></th>\n",
       "      <th>Year</th>\n",
       "      <th>continent</th>\n",
       "      <th>population value</th>\n",
       "      <th>date</th>\n",
       "      <th>forest coverage</th>\n",
       "      <th>decimal</th>\n",
       "    </tr>\n",
       "  </thead>\n",
       "  <tbody>\n",
       "    <tr>\n",
       "      <th>0</th>\n",
       "      <td>2000</td>\n",
       "      <td>Africa</td>\n",
       "      <td>4.352697e+07</td>\n",
       "      <td>2000</td>\n",
       "      <td>1619.809204</td>\n",
       "      <td>54</td>\n",
       "    </tr>\n",
       "    <tr>\n",
       "      <th>1</th>\n",
       "      <td>2000</td>\n",
       "      <td>Asia</td>\n",
       "      <td>2.592314e+09</td>\n",
       "      <td>2000</td>\n",
       "      <td>1083.110889</td>\n",
       "      <td>49</td>\n",
       "    </tr>\n",
       "    <tr>\n",
       "      <th>2</th>\n",
       "      <td>2000</td>\n",
       "      <td>Europe</td>\n",
       "      <td>1.017168e+09</td>\n",
       "      <td>2000</td>\n",
       "      <td>1280.697749</td>\n",
       "      <td>46</td>\n",
       "    </tr>\n",
       "    <tr>\n",
       "      <th>3</th>\n",
       "      <td>2000</td>\n",
       "      <td>North America</td>\n",
       "      <td>7.583219e+08</td>\n",
       "      <td>2000</td>\n",
       "      <td>1205.603681</td>\n",
       "      <td>33</td>\n",
       "    </tr>\n",
       "    <tr>\n",
       "      <th>4</th>\n",
       "      <td>2000</td>\n",
       "      <td>Oceania</td>\n",
       "      <td>3.029957e+07</td>\n",
       "      <td>2000</td>\n",
       "      <td>945.163168</td>\n",
       "      <td>19</td>\n",
       "    </tr>\n",
       "  </tbody>\n",
       "</table>\n",
       "</div>"
      ],
      "text/plain": [
       "   Year      continent  population value  date  forest coverage  decimal\n",
       "0  2000         Africa      4.352697e+07  2000      1619.809204       54\n",
       "1  2000           Asia      2.592314e+09  2000      1083.110889       49\n",
       "2  2000         Europe      1.017168e+09  2000      1280.697749       46\n",
       "3  2000  North America      7.583219e+08  2000      1205.603681       33\n",
       "4  2000        Oceania      3.029957e+07  2000       945.163168       19"
      ]
     },
     "execution_count": 30,
     "metadata": {},
     "output_type": "execute_result"
    }
   ],
   "source": [
    "merged_df = pd.merge(continent_population_data, continent_forest_data, left_on=['continent','Year'], right_on=['continent', 'Year'], how='inner')\n",
    "print(merged_df.shape)\n",
    "merged_df.head()\n"
   ]
  },
  {
   "cell_type": "code",
   "execution_count": 19,
   "id": "49d2deae",
   "metadata": {
    "scrolled": false
   },
   "outputs": [
    {
     "name": "stderr",
     "output_type": "stream",
     "text": [
      "C:\\Users\\bogla_d7nsnlv\\anaconda3\\lib\\site-packages\\numpy\\lib\\arraysetops.py:583: FutureWarning: elementwise comparison failed; returning scalar instead, but in the future will perform elementwise comparison\n",
      "  mask |= (ar1 == a)\n"
     ]
    },
    {
     "data": {
      "text/html": [
       "<div>\n",
       "<style scoped>\n",
       "    .dataframe tbody tr th:only-of-type {\n",
       "        vertical-align: middle;\n",
       "    }\n",
       "\n",
       "    .dataframe tbody tr th {\n",
       "        vertical-align: top;\n",
       "    }\n",
       "\n",
       "    .dataframe thead th {\n",
       "        text-align: right;\n",
       "    }\n",
       "</style>\n",
       "<table border=\"1\" class=\"dataframe\">\n",
       "  <thead>\n",
       "    <tr style=\"text-align: right;\">\n",
       "      <th></th>\n",
       "      <th>Area Code (M49)</th>\n",
       "      <th>Area</th>\n",
       "      <th>Item Code</th>\n",
       "      <th>Item Code (CPC)</th>\n",
       "      <th>Item</th>\n",
       "      <th>Element Code</th>\n",
       "      <th>Element</th>\n",
       "      <th>Year Code</th>\n",
       "      <th>Year</th>\n",
       "      <th>Unit</th>\n",
       "      <th>Value</th>\n",
       "      <th>Flag</th>\n",
       "    </tr>\n",
       "    <tr>\n",
       "      <th>Area Code</th>\n",
       "      <th></th>\n",
       "      <th></th>\n",
       "      <th></th>\n",
       "      <th></th>\n",
       "      <th></th>\n",
       "      <th></th>\n",
       "      <th></th>\n",
       "      <th></th>\n",
       "      <th></th>\n",
       "      <th></th>\n",
       "      <th></th>\n",
       "      <th></th>\n",
       "    </tr>\n",
       "  </thead>\n",
       "  <tbody>\n",
       "    <tr>\n",
       "      <th>2</th>\n",
       "      <td>'004</td>\n",
       "      <td>Afghanistan</td>\n",
       "      <td>221</td>\n",
       "      <td>'01371</td>\n",
       "      <td>Almonds, in shell</td>\n",
       "      <td>5312</td>\n",
       "      <td>Area harvested</td>\n",
       "      <td>1975</td>\n",
       "      <td>1975</td>\n",
       "      <td>ha</td>\n",
       "      <td>0.0</td>\n",
       "      <td>E</td>\n",
       "    </tr>\n",
       "    <tr>\n",
       "      <th>2</th>\n",
       "      <td>'004</td>\n",
       "      <td>Afghanistan</td>\n",
       "      <td>221</td>\n",
       "      <td>'01371</td>\n",
       "      <td>Almonds, in shell</td>\n",
       "      <td>5312</td>\n",
       "      <td>Area harvested</td>\n",
       "      <td>1976</td>\n",
       "      <td>1976</td>\n",
       "      <td>ha</td>\n",
       "      <td>5900.0</td>\n",
       "      <td>E</td>\n",
       "    </tr>\n",
       "    <tr>\n",
       "      <th>2</th>\n",
       "      <td>'004</td>\n",
       "      <td>Afghanistan</td>\n",
       "      <td>221</td>\n",
       "      <td>'01371</td>\n",
       "      <td>Almonds, in shell</td>\n",
       "      <td>5312</td>\n",
       "      <td>Area harvested</td>\n",
       "      <td>1977</td>\n",
       "      <td>1977</td>\n",
       "      <td>ha</td>\n",
       "      <td>6000.0</td>\n",
       "      <td>E</td>\n",
       "    </tr>\n",
       "    <tr>\n",
       "      <th>2</th>\n",
       "      <td>'004</td>\n",
       "      <td>Afghanistan</td>\n",
       "      <td>221</td>\n",
       "      <td>'01371</td>\n",
       "      <td>Almonds, in shell</td>\n",
       "      <td>5312</td>\n",
       "      <td>Area harvested</td>\n",
       "      <td>1978</td>\n",
       "      <td>1978</td>\n",
       "      <td>ha</td>\n",
       "      <td>6000.0</td>\n",
       "      <td>E</td>\n",
       "    </tr>\n",
       "    <tr>\n",
       "      <th>2</th>\n",
       "      <td>'004</td>\n",
       "      <td>Afghanistan</td>\n",
       "      <td>221</td>\n",
       "      <td>'01371</td>\n",
       "      <td>Almonds, in shell</td>\n",
       "      <td>5312</td>\n",
       "      <td>Area harvested</td>\n",
       "      <td>1979</td>\n",
       "      <td>1979</td>\n",
       "      <td>ha</td>\n",
       "      <td>6000.0</td>\n",
       "      <td>E</td>\n",
       "    </tr>\n",
       "  </tbody>\n",
       "</table>\n",
       "</div>"
      ],
      "text/plain": [
       "          Area Code (M49)         Area  Item Code Item Code (CPC)  \\\n",
       "Area Code                                                           \n",
       "2                    '004  Afghanistan        221          '01371   \n",
       "2                    '004  Afghanistan        221          '01371   \n",
       "2                    '004  Afghanistan        221          '01371   \n",
       "2                    '004  Afghanistan        221          '01371   \n",
       "2                    '004  Afghanistan        221          '01371   \n",
       "\n",
       "                        Item  Element Code         Element  Year Code  Year  \\\n",
       "Area Code                                                                     \n",
       "2          Almonds, in shell          5312  Area harvested       1975  1975   \n",
       "2          Almonds, in shell          5312  Area harvested       1976  1976   \n",
       "2          Almonds, in shell          5312  Area harvested       1977  1977   \n",
       "2          Almonds, in shell          5312  Area harvested       1978  1978   \n",
       "2          Almonds, in shell          5312  Area harvested       1979  1979   \n",
       "\n",
       "          Unit   Value Flag  \n",
       "Area Code                    \n",
       "2           ha     0.0    E  \n",
       "2           ha  5900.0    E  \n",
       "2           ha  6000.0    E  \n",
       "2           ha  6000.0    E  \n",
       "2           ha  6000.0    E  "
      ]
     },
     "execution_count": 19,
     "metadata": {},
     "output_type": "execute_result"
    }
   ],
   "source": [
    "food = pd.read_csv(\"food_production.csv\", index_col = 0)\n",
    "food.head()"
   ]
  },
  {
   "cell_type": "code",
   "execution_count": 20,
   "id": "1a50c65d",
   "metadata": {},
   "outputs": [
    {
     "data": {
      "text/html": [
       "<div>\n",
       "<style scoped>\n",
       "    .dataframe tbody tr th:only-of-type {\n",
       "        vertical-align: middle;\n",
       "    }\n",
       "\n",
       "    .dataframe tbody tr th {\n",
       "        vertical-align: top;\n",
       "    }\n",
       "\n",
       "    .dataframe thead th {\n",
       "        text-align: right;\n",
       "    }\n",
       "</style>\n",
       "<table border=\"1\" class=\"dataframe\">\n",
       "  <thead>\n",
       "    <tr style=\"text-align: right;\">\n",
       "      <th></th>\n",
       "      <th>Area</th>\n",
       "      <th>Item</th>\n",
       "      <th>Element</th>\n",
       "      <th>Year</th>\n",
       "      <th>Unit</th>\n",
       "      <th>Value</th>\n",
       "      <th>Flag</th>\n",
       "    </tr>\n",
       "    <tr>\n",
       "      <th>Area Code</th>\n",
       "      <th></th>\n",
       "      <th></th>\n",
       "      <th></th>\n",
       "      <th></th>\n",
       "      <th></th>\n",
       "      <th></th>\n",
       "      <th></th>\n",
       "    </tr>\n",
       "  </thead>\n",
       "  <tbody>\n",
       "    <tr>\n",
       "      <th>2</th>\n",
       "      <td>Afghanistan</td>\n",
       "      <td>Almonds, in shell</td>\n",
       "      <td>Area harvested</td>\n",
       "      <td>2002</td>\n",
       "      <td>ha</td>\n",
       "      <td>5500.0</td>\n",
       "      <td>A</td>\n",
       "    </tr>\n",
       "    <tr>\n",
       "      <th>2</th>\n",
       "      <td>Afghanistan</td>\n",
       "      <td>Almonds, in shell</td>\n",
       "      <td>Area harvested</td>\n",
       "      <td>2003</td>\n",
       "      <td>ha</td>\n",
       "      <td>5700.0</td>\n",
       "      <td>A</td>\n",
       "    </tr>\n",
       "    <tr>\n",
       "      <th>2</th>\n",
       "      <td>Afghanistan</td>\n",
       "      <td>Almonds, in shell</td>\n",
       "      <td>Area harvested</td>\n",
       "      <td>2006</td>\n",
       "      <td>ha</td>\n",
       "      <td>12000.0</td>\n",
       "      <td>A</td>\n",
       "    </tr>\n",
       "    <tr>\n",
       "      <th>2</th>\n",
       "      <td>Afghanistan</td>\n",
       "      <td>Almonds, in shell</td>\n",
       "      <td>Area harvested</td>\n",
       "      <td>2007</td>\n",
       "      <td>ha</td>\n",
       "      <td>12000.0</td>\n",
       "      <td>A</td>\n",
       "    </tr>\n",
       "    <tr>\n",
       "      <th>2</th>\n",
       "      <td>Afghanistan</td>\n",
       "      <td>Almonds, in shell</td>\n",
       "      <td>Area harvested</td>\n",
       "      <td>2008</td>\n",
       "      <td>ha</td>\n",
       "      <td>12000.0</td>\n",
       "      <td>A</td>\n",
       "    </tr>\n",
       "  </tbody>\n",
       "</table>\n",
       "</div>"
      ],
      "text/plain": [
       "                  Area               Item         Element  Year Unit    Value  \\\n",
       "Area Code                                                                       \n",
       "2          Afghanistan  Almonds, in shell  Area harvested  2002   ha   5500.0   \n",
       "2          Afghanistan  Almonds, in shell  Area harvested  2003   ha   5700.0   \n",
       "2          Afghanistan  Almonds, in shell  Area harvested  2006   ha  12000.0   \n",
       "2          Afghanistan  Almonds, in shell  Area harvested  2007   ha  12000.0   \n",
       "2          Afghanistan  Almonds, in shell  Area harvested  2008   ha  12000.0   \n",
       "\n",
       "          Flag  \n",
       "Area Code       \n",
       "2            A  \n",
       "2            A  \n",
       "2            A  \n",
       "2            A  \n",
       "2            A  "
      ]
     },
     "execution_count": 20,
     "metadata": {},
     "output_type": "execute_result"
    }
   ],
   "source": [
    "filtered_food= food.filter(items=['Area','Item','Element','Year','Unit','Value','Flag']).loc[(food['Flag']=='A') & (food['Year']>=2000) & (food['Year']<2021)]\n",
    "filtered_food.head()"
   ]
  },
  {
   "cell_type": "code",
   "execution_count": 21,
   "id": "0343adb1",
   "metadata": {},
   "outputs": [
    {
     "data": {
      "text/html": [
       "<div>\n",
       "<style scoped>\n",
       "    .dataframe tbody tr th:only-of-type {\n",
       "        vertical-align: middle;\n",
       "    }\n",
       "\n",
       "    .dataframe tbody tr th {\n",
       "        vertical-align: top;\n",
       "    }\n",
       "\n",
       "    .dataframe thead th {\n",
       "        text-align: right;\n",
       "    }\n",
       "</style>\n",
       "<table border=\"1\" class=\"dataframe\">\n",
       "  <thead>\n",
       "    <tr style=\"text-align: right;\">\n",
       "      <th></th>\n",
       "      <th>Area</th>\n",
       "      <th>Item</th>\n",
       "      <th>Element</th>\n",
       "      <th>Year</th>\n",
       "      <th>Unit</th>\n",
       "      <th>food value</th>\n",
       "      <th>Flag</th>\n",
       "      <th>continent</th>\n",
       "    </tr>\n",
       "    <tr>\n",
       "      <th>Area Code</th>\n",
       "      <th></th>\n",
       "      <th></th>\n",
       "      <th></th>\n",
       "      <th></th>\n",
       "      <th></th>\n",
       "      <th></th>\n",
       "      <th></th>\n",
       "      <th></th>\n",
       "    </tr>\n",
       "  </thead>\n",
       "  <tbody>\n",
       "    <tr>\n",
       "      <th>2</th>\n",
       "      <td>Afghanistan</td>\n",
       "      <td>Almonds, in shell</td>\n",
       "      <td>Area harvested</td>\n",
       "      <td>2002</td>\n",
       "      <td>ha</td>\n",
       "      <td>5500.0</td>\n",
       "      <td>A</td>\n",
       "      <td>Asia</td>\n",
       "    </tr>\n",
       "    <tr>\n",
       "      <th>2</th>\n",
       "      <td>Afghanistan</td>\n",
       "      <td>Almonds, in shell</td>\n",
       "      <td>Area harvested</td>\n",
       "      <td>2003</td>\n",
       "      <td>ha</td>\n",
       "      <td>5700.0</td>\n",
       "      <td>A</td>\n",
       "      <td>Asia</td>\n",
       "    </tr>\n",
       "    <tr>\n",
       "      <th>2</th>\n",
       "      <td>Afghanistan</td>\n",
       "      <td>Almonds, in shell</td>\n",
       "      <td>Area harvested</td>\n",
       "      <td>2006</td>\n",
       "      <td>ha</td>\n",
       "      <td>12000.0</td>\n",
       "      <td>A</td>\n",
       "      <td>Asia</td>\n",
       "    </tr>\n",
       "    <tr>\n",
       "      <th>2</th>\n",
       "      <td>Afghanistan</td>\n",
       "      <td>Almonds, in shell</td>\n",
       "      <td>Area harvested</td>\n",
       "      <td>2007</td>\n",
       "      <td>ha</td>\n",
       "      <td>12000.0</td>\n",
       "      <td>A</td>\n",
       "      <td>Asia</td>\n",
       "    </tr>\n",
       "    <tr>\n",
       "      <th>2</th>\n",
       "      <td>Afghanistan</td>\n",
       "      <td>Almonds, in shell</td>\n",
       "      <td>Area harvested</td>\n",
       "      <td>2008</td>\n",
       "      <td>ha</td>\n",
       "      <td>12000.0</td>\n",
       "      <td>A</td>\n",
       "      <td>Asia</td>\n",
       "    </tr>\n",
       "  </tbody>\n",
       "</table>\n",
       "</div>"
      ],
      "text/plain": [
       "                  Area               Item         Element  Year Unit  \\\n",
       "Area Code                                                              \n",
       "2          Afghanistan  Almonds, in shell  Area harvested  2002   ha   \n",
       "2          Afghanistan  Almonds, in shell  Area harvested  2003   ha   \n",
       "2          Afghanistan  Almonds, in shell  Area harvested  2006   ha   \n",
       "2          Afghanistan  Almonds, in shell  Area harvested  2007   ha   \n",
       "2          Afghanistan  Almonds, in shell  Area harvested  2008   ha   \n",
       "\n",
       "           food value Flag continent  \n",
       "Area Code                             \n",
       "2              5500.0    A      Asia  \n",
       "2              5700.0    A      Asia  \n",
       "2             12000.0    A      Asia  \n",
       "2             12000.0    A      Asia  \n",
       "2             12000.0    A      Asia  "
      ]
     },
     "execution_count": 21,
     "metadata": {},
     "output_type": "execute_result"
    }
   ],
   "source": [
    "filtered_food['continent'] = filtered_food['Area'].map(country_name_to_continent)\n",
    "filtered_food=filtered_food.rename(columns={'Value':'food value'})\n",
    "filtered_food.head()"
   ]
  },
  {
   "cell_type": "code",
   "execution_count": 31,
   "id": "283c8c99",
   "metadata": {
    "scrolled": true
   },
   "outputs": [
    {
     "name": "stdout",
     "output_type": "stream",
     "text": [
      "<class 'pandas.core.frame.DataFrame'>\n",
      "RangeIndex: 126 entries, 0 to 125\n",
      "Data columns (total 3 columns):\n",
      " #   Column      Non-Null Count  Dtype  \n",
      "---  ------      --------------  -----  \n",
      " 0   Year        126 non-null    int64  \n",
      " 1   continent   126 non-null    object \n",
      " 2   food value  126 non-null    float64\n",
      "dtypes: float64(1), int64(1), object(1)\n",
      "memory usage: 3.1+ KB\n"
     ]
    }
   ],
   "source": [
    "continent_filtered_food = filtered_food.groupby(['Year', 'continent']).sum('value')\n",
    "continent_filtered_food .reset_index(inplace=True)\n",
    "continent_filtered_food.info()"
   ]
  },
  {
   "cell_type": "markdown",
   "id": "ddba2771",
   "metadata": {},
   "source": [
    "Creating the final, merged DataFrame"
   ]
  },
  {
   "cell_type": "code",
   "execution_count": 33,
   "id": "83f4ef95",
   "metadata": {},
   "outputs": [
    {
     "name": "stdout",
     "output_type": "stream",
     "text": [
      "(126, 7)\n"
     ]
    },
    {
     "data": {
      "text/html": [
       "<div>\n",
       "<style scoped>\n",
       "    .dataframe tbody tr th:only-of-type {\n",
       "        vertical-align: middle;\n",
       "    }\n",
       "\n",
       "    .dataframe tbody tr th {\n",
       "        vertical-align: top;\n",
       "    }\n",
       "\n",
       "    .dataframe thead th {\n",
       "        text-align: right;\n",
       "    }\n",
       "</style>\n",
       "<table border=\"1\" class=\"dataframe\">\n",
       "  <thead>\n",
       "    <tr style=\"text-align: right;\">\n",
       "      <th></th>\n",
       "      <th>Year</th>\n",
       "      <th>continent</th>\n",
       "      <th>population value</th>\n",
       "      <th>date</th>\n",
       "      <th>forest coverage</th>\n",
       "      <th>decimal</th>\n",
       "      <th>food value</th>\n",
       "    </tr>\n",
       "  </thead>\n",
       "  <tbody>\n",
       "    <tr>\n",
       "      <th>0</th>\n",
       "      <td>2000</td>\n",
       "      <td>Africa</td>\n",
       "      <td>4.352697e+07</td>\n",
       "      <td>2000</td>\n",
       "      <td>1619.809204</td>\n",
       "      <td>54</td>\n",
       "      <td>2.289529e+09</td>\n",
       "    </tr>\n",
       "    <tr>\n",
       "      <th>1</th>\n",
       "      <td>2000</td>\n",
       "      <td>Asia</td>\n",
       "      <td>2.592314e+09</td>\n",
       "      <td>2000</td>\n",
       "      <td>1083.110889</td>\n",
       "      <td>49</td>\n",
       "      <td>8.437340e+09</td>\n",
       "    </tr>\n",
       "    <tr>\n",
       "      <th>2</th>\n",
       "      <td>2000</td>\n",
       "      <td>Europe</td>\n",
       "      <td>1.017168e+09</td>\n",
       "      <td>2000</td>\n",
       "      <td>1280.697749</td>\n",
       "      <td>46</td>\n",
       "      <td>5.511825e+09</td>\n",
       "    </tr>\n",
       "    <tr>\n",
       "      <th>3</th>\n",
       "      <td>2000</td>\n",
       "      <td>North America</td>\n",
       "      <td>7.583219e+08</td>\n",
       "      <td>2000</td>\n",
       "      <td>1205.603681</td>\n",
       "      <td>33</td>\n",
       "      <td>3.514083e+09</td>\n",
       "    </tr>\n",
       "    <tr>\n",
       "      <th>4</th>\n",
       "      <td>2000</td>\n",
       "      <td>Oceania</td>\n",
       "      <td>3.029957e+07</td>\n",
       "      <td>2000</td>\n",
       "      <td>945.163168</td>\n",
       "      <td>19</td>\n",
       "      <td>9.662191e+08</td>\n",
       "    </tr>\n",
       "  </tbody>\n",
       "</table>\n",
       "</div>"
      ],
      "text/plain": [
       "   Year      continent  population value  date  forest coverage  decimal  \\\n",
       "0  2000         Africa      4.352697e+07  2000      1619.809204       54   \n",
       "1  2000           Asia      2.592314e+09  2000      1083.110889       49   \n",
       "2  2000         Europe      1.017168e+09  2000      1280.697749       46   \n",
       "3  2000  North America      7.583219e+08  2000      1205.603681       33   \n",
       "4  2000        Oceania      3.029957e+07  2000       945.163168       19   \n",
       "\n",
       "     food value  \n",
       "0  2.289529e+09  \n",
       "1  8.437340e+09  \n",
       "2  5.511825e+09  \n",
       "3  3.514083e+09  \n",
       "4  9.662191e+08  "
      ]
     },
     "execution_count": 33,
     "metadata": {},
     "output_type": "execute_result"
    }
   ],
   "source": [
    "continent_df = pd.merge(merged_df, continent_filtered_food, left_on=['continent','Year'], right_on=['continent', 'Year'], how='inner')\n",
    "print(continent_df.shape)\n",
    "continent_df.head()"
   ]
  },
  {
   "cell_type": "code",
   "execution_count": 37,
   "id": "ab10ff52",
   "metadata": {},
   "outputs": [
    {
     "data": {
      "text/html": [
       "<div>\n",
       "<style scoped>\n",
       "    .dataframe tbody tr th:only-of-type {\n",
       "        vertical-align: middle;\n",
       "    }\n",
       "\n",
       "    .dataframe tbody tr th {\n",
       "        vertical-align: top;\n",
       "    }\n",
       "\n",
       "    .dataframe thead th {\n",
       "        text-align: right;\n",
       "    }\n",
       "</style>\n",
       "<table border=\"1\" class=\"dataframe\">\n",
       "  <thead>\n",
       "    <tr style=\"text-align: right;\">\n",
       "      <th></th>\n",
       "      <th>Year</th>\n",
       "      <th>continent</th>\n",
       "      <th>population value</th>\n",
       "      <th>forest coverage</th>\n",
       "      <th>food value</th>\n",
       "    </tr>\n",
       "  </thead>\n",
       "  <tbody>\n",
       "    <tr>\n",
       "      <th>0</th>\n",
       "      <td>2000</td>\n",
       "      <td>Africa</td>\n",
       "      <td>4.352697e+07</td>\n",
       "      <td>1619.809204</td>\n",
       "      <td>2.289529e+09</td>\n",
       "    </tr>\n",
       "    <tr>\n",
       "      <th>1</th>\n",
       "      <td>2000</td>\n",
       "      <td>Asia</td>\n",
       "      <td>2.592314e+09</td>\n",
       "      <td>1083.110889</td>\n",
       "      <td>8.437340e+09</td>\n",
       "    </tr>\n",
       "    <tr>\n",
       "      <th>2</th>\n",
       "      <td>2000</td>\n",
       "      <td>Europe</td>\n",
       "      <td>1.017168e+09</td>\n",
       "      <td>1280.697749</td>\n",
       "      <td>5.511825e+09</td>\n",
       "    </tr>\n",
       "    <tr>\n",
       "      <th>3</th>\n",
       "      <td>2000</td>\n",
       "      <td>North America</td>\n",
       "      <td>7.583219e+08</td>\n",
       "      <td>1205.603681</td>\n",
       "      <td>3.514083e+09</td>\n",
       "    </tr>\n",
       "    <tr>\n",
       "      <th>4</th>\n",
       "      <td>2000</td>\n",
       "      <td>Oceania</td>\n",
       "      <td>3.029957e+07</td>\n",
       "      <td>945.163168</td>\n",
       "      <td>9.662191e+08</td>\n",
       "    </tr>\n",
       "  </tbody>\n",
       "</table>\n",
       "</div>"
      ],
      "text/plain": [
       "   Year      continent  population value  forest coverage    food value\n",
       "0  2000         Africa      4.352697e+07      1619.809204  2.289529e+09\n",
       "1  2000           Asia      2.592314e+09      1083.110889  8.437340e+09\n",
       "2  2000         Europe      1.017168e+09      1280.697749  5.511825e+09\n",
       "3  2000  North America      7.583219e+08      1205.603681  3.514083e+09\n",
       "4  2000        Oceania      3.029957e+07       945.163168  9.662191e+08"
      ]
     },
     "execution_count": 37,
     "metadata": {},
     "output_type": "execute_result"
    }
   ],
   "source": [
    "continent_df= continent_df.filter(items=['Year','continent','population value','forest coverage','food value'])\n",
    "continent_df.head()\n"
   ]
  },
  {
   "cell_type": "code",
   "execution_count": 38,
   "id": "e704d053",
   "metadata": {},
   "outputs": [
    {
     "name": "stdout",
     "output_type": "stream",
     "text": [
      "<class 'pandas.core.frame.DataFrame'>\n",
      "Int64Index: 126 entries, 0 to 125\n",
      "Data columns (total 5 columns):\n",
      " #   Column            Non-Null Count  Dtype  \n",
      "---  ------            --------------  -----  \n",
      " 0   Year              126 non-null    int64  \n",
      " 1   continent         126 non-null    object \n",
      " 2   population value  126 non-null    float64\n",
      " 3   forest coverage   126 non-null    float64\n",
      " 4   food value        126 non-null    float64\n",
      "dtypes: float64(3), int64(1), object(1)\n",
      "memory usage: 5.9+ KB\n"
     ]
    }
   ],
   "source": [
    "continent_df.info()"
   ]
  },
  {
   "cell_type": "code",
   "execution_count": 39,
   "id": "145aca99",
   "metadata": {},
   "outputs": [
    {
     "name": "stdout",
     "output_type": "stream",
     "text": [
      "[2000 2001 2002 2003 2004 2005 2006 2007 2008 2009 2010 2011 2012 2013\n",
      " 2014 2015 2016 2017 2018 2019 2020]\n"
     ]
    }
   ],
   "source": [
    "continent_df_unique = continent_df[\"Year\"].unique()\n",
    "print(continent_df_unique)"
   ]
  },
  {
   "cell_type": "code",
   "execution_count": 40,
   "id": "2ff15831",
   "metadata": {},
   "outputs": [
    {
     "name": "stdout",
     "output_type": "stream",
     "text": [
      "['Africa' 'Asia' 'Europe' 'North America' 'Oceania' 'South America']\n"
     ]
    }
   ],
   "source": [
    "continent_df_unique2 = continent_df[\"continent\"].unique()\n",
    "print(continent_df_unique2)"
   ]
  },
  {
   "cell_type": "code",
   "execution_count": 42,
   "id": "c5c6cef2",
   "metadata": {},
   "outputs": [
    {
     "data": {
      "text/plain": [
       "Text(0.5, 1.0, 'Population')"
      ]
     },
     "execution_count": 42,
     "metadata": {},
     "output_type": "execute_result"
    },
    {
     "data": {
      "image/png": "[encoded data removed]",
      "text/plain": [
       "<Figure size 720x360 with 1 Axes>"
      ]
     },
     "metadata": {
      "needs_background": "light"
     },
     "output_type": "display_data"
    }
   ],
   "source": [
    "fig, ax = plt.subplots(figsize=(10,5))\n",
    "sns.barplot(data=continent_df, y='population value', x='Year', hue='continent')\n",
    "plt.title('Population')"
   ]
  },
  {
   "cell_type": "code",
   "execution_count": 43,
   "id": "a10f73a9",
   "metadata": {},
   "outputs": [
    {
     "data": {
      "text/plain": [
       "Text(0.5, 1.0, 'Forest coverage')"
      ]
     },
     "execution_count": 43,
     "metadata": {},
     "output_type": "execute_result"
    },
    {
     "data": {
      "image/png": "[encoded data removed]",
      "text/plain": [
       "<Figure size 720x360 with 1 Axes>"
      ]
     },
     "metadata": {
      "needs_background": "light"
     },
     "output_type": "display_data"
    }
   ],
   "source": [
    "fig, ax = plt.subplots(figsize=(10,5))\n",
    "sns.barplot(data=continent_df, y='forest coverage', x='Year', hue='continent')\n",
    "plt.title('Forest coverage')"
   ]
  },
  {
   "cell_type": "code",
   "execution_count": 44,
   "id": "214fadb6",
   "metadata": {},
   "outputs": [
    {
     "data": {
      "text/plain": [
       "Text(0.5, 1.0, 'Food production')"
      ]
     },
     "execution_count": 44,
     "metadata": {},
     "output_type": "execute_result"
    },
    {
     "data": {
      "image/png": "[encoded data removed]",
      "text/plain": [
       "<Figure size 720x360 with 1 Axes>"
      ]
     },
     "metadata": {
      "needs_background": "light"
     },
     "output_type": "display_data"
    }
   ],
   "source": [
    "fig, ax = plt.subplots(figsize=(10,5))\n",
    "sns.barplot(data=continent_df, y='food value', x='Year', hue='continent')\n",
    "plt.title('Food production')"
   ]
  }
 ],
 "metadata": {
  "kernelspec": {
   "display_name": "Python 3",
   "language": "python",
   "name": "python3"
  },
  "language_info": {
   "codemirror_mode": {
    "name": "ipython",
    "version": 3
   },
   "file_extension": ".py",
   "mimetype": "text/x-python",
   "name": "python",
   "nbconvert_exporter": "python",
   "pygments_lexer": "ipython3",
   "version": "3.8.8"
  }
 },
 "nbformat": 4,
 "nbformat_minor": 5
}
