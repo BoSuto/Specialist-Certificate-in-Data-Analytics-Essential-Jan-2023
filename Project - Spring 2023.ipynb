{
 "cells": [
  {
   "cell_type": "markdown",
   "id": "fd07dabe",
   "metadata": {},
   "source": [
    "DATASETS\n",
    "\n",
    "1. World Bank Open Data\n",
    "2.\n"
   ]
  },
  {
   "cell_type": "code",
   "execution_count": 1,
   "id": "f0074a11",
   "metadata": {},
   "outputs": [],
   "source": [
    "import numpy as np\n",
    "import pandas as pd\n"
   ]
  },
  {
   "cell_type": "markdown",
   "id": "f979fd16",
   "metadata": {},
   "source": [
    "To access the World Bank Open Data API using Python, we installed the wbdata library"
   ]
  },
  {
   "cell_type": "code",
   "execution_count": 1,
   "id": "59853b29",
   "metadata": {},
   "outputs": [
    {
     "name": "stdout",
     "output_type": "stream",
     "text": [
      "Collecting wbdata\n",
      "  Downloading wbdata-0.3.0-py3-none-any.whl (14 kB)\n",
      "Requirement already satisfied: requests>=2.0 in c:\\users\\bogla_d7nsnlv\\anaconda3\\lib\\site-packages (from wbdata) (2.25.1)\n",
      "Requirement already satisfied: decorator>=4.0 in c:\\users\\bogla_d7nsnlv\\anaconda3\\lib\\site-packages (from wbdata) (5.0.6)\n",
      "Collecting tabulate>=0.8.5\n",
      "  Downloading tabulate-0.9.0-py3-none-any.whl (35 kB)\n",
      "Requirement already satisfied: appdirs<2.0,>=1.4 in c:\\users\\bogla_d7nsnlv\\anaconda3\\lib\\site-packages (from wbdata) (1.4.4)\n",
      "Requirement already satisfied: urllib3<1.27,>=1.21.1 in c:\\users\\bogla_d7nsnlv\\anaconda3\\lib\\site-packages (from requests>=2.0->wbdata) (1.26.4)\n",
      "Requirement already satisfied: chardet<5,>=3.0.2 in c:\\users\\bogla_d7nsnlv\\anaconda3\\lib\\site-packages (from requests>=2.0->wbdata) (4.0.0)\n",
      "Requirement already satisfied: idna<3,>=2.5 in c:\\users\\bogla_d7nsnlv\\anaconda3\\lib\\site-packages (from requests>=2.0->wbdata) (2.10)\n",
      "Requirement already satisfied: certifi>=2017.4.17 in c:\\users\\bogla_d7nsnlv\\anaconda3\\lib\\site-packages (from requests>=2.0->wbdata) (2020.12.5)\n",
      "Installing collected packages: tabulate, wbdata\n",
      "Successfully installed tabulate-0.9.0 wbdata-0.3.0\n",
      "Note: you may need to restart the kernel to use updated packages.\n"
     ]
    }
   ],
   "source": [
    "pip install wbdata"
   ]
  },
  {
   "cell_type": "markdown",
   "id": "31072f4b",
   "metadata": {},
   "source": [
    "Imported the data and looked at timeframe, countries and created the dataframe"
   ]
  },
  {
   "cell_type": "code",
   "execution_count": 11,
   "id": "4ba9d897",
   "metadata": {},
   "outputs": [
    {
     "name": "stdout",
     "output_type": "stream",
     "text": [
      "                                            indicator  \\\n",
      "0   {'id': 'AG.LND.FRST.ZS', 'value': 'Forest area...   \n",
      "1   {'id': 'AG.LND.FRST.ZS', 'value': 'Forest area...   \n",
      "2   {'id': 'AG.LND.FRST.ZS', 'value': 'Forest area...   \n",
      "3   {'id': 'AG.LND.FRST.ZS', 'value': 'Forest area...   \n",
      "4   {'id': 'AG.LND.FRST.ZS', 'value': 'Forest area...   \n",
      "..                                                ...   \n",
      "58  {'id': 'AG.LND.FRST.ZS', 'value': 'Forest area...   \n",
      "59  {'id': 'AG.LND.FRST.ZS', 'value': 'Forest area...   \n",
      "60  {'id': 'AG.LND.FRST.ZS', 'value': 'Forest area...   \n",
      "61  {'id': 'AG.LND.FRST.ZS', 'value': 'Forest area...   \n",
      "62  {'id': 'AG.LND.FRST.ZS', 'value': 'Forest area...   \n",
      "\n",
      "                                   country countryiso3code  date      value  \\\n",
      "0          {'id': 'CA', 'value': 'Canada'}             CAN  2020  38.695513   \n",
      "1          {'id': 'CA', 'value': 'Canada'}             CAN  2019  38.699637   \n",
      "2          {'id': 'CA', 'value': 'Canada'}             CAN  2018  38.703763   \n",
      "3          {'id': 'CA', 'value': 'Canada'}             CAN  2017  38.707888   \n",
      "4          {'id': 'CA', 'value': 'Canada'}             CAN  2016  38.712013   \n",
      "..                                     ...             ...   ...        ...   \n",
      "58  {'id': 'US', 'value': 'United States'}             USA  2004  33.356502   \n",
      "59  {'id': 'US', 'value': 'United States'}             USA  2003  33.299920   \n",
      "60  {'id': 'US', 'value': 'United States'}             USA  2002  33.243338   \n",
      "61  {'id': 'US', 'value': 'United States'}             USA  2001  33.186756   \n",
      "62  {'id': 'US', 'value': 'United States'}             USA  2000  33.130174   \n",
      "\n",
      "   unit obs_status  decimal  \n",
      "0                         1  \n",
      "1                         1  \n",
      "2                         1  \n",
      "3                         1  \n",
      "4                         1  \n",
      "..  ...        ...      ...  \n",
      "58                        1  \n",
      "59                        1  \n",
      "60                        1  \n",
      "61                        1  \n",
      "62                        1  \n",
      "\n",
      "[63 rows x 8 columns]\n"
     ]
    }
   ],
   "source": [
    "import wbdata\n",
    "import pandas as pd\n",
    "\n",
    "# Set the indicator code for forest coverage\n",
    "indicator_code = 'AG.LND.FRST.ZS'\n",
    "\n",
    "# Set the start and end year for the data\n",
    "start_year = 2000\n",
    "end_year = 2020\n",
    "\n",
    "# Set the countries to retrieve data for\n",
    "countries = ['USA', 'CAN', 'MEX']\n",
    "\n",
    "# Retrieve the data\n",
    "start_date = datetime.datetime(start_year, 1, 1)\n",
    "end_date = datetime.datetime(end_year, 12, 31)\n",
    "\n",
    "forest_data = wbdata.get_data(indicator_code, country=countries, data_date=(start_date, end_date))\n",
    "\n",
    "# Convert the data to a pandas DataFrame\n",
    "df = pd.DataFrame(forest_data)\n",
    "print(df)\n"
   ]
  },
  {
   "cell_type": "code",
   "execution_count": 12,
   "id": "1ac002d7",
   "metadata": {
    "scrolled": true
   },
   "outputs": [
    {
     "data": {
      "text/html": [
       "<div>\n",
       "<style scoped>\n",
       "    .dataframe tbody tr th:only-of-type {\n",
       "        vertical-align: middle;\n",
       "    }\n",
       "\n",
       "    .dataframe tbody tr th {\n",
       "        vertical-align: top;\n",
       "    }\n",
       "\n",
       "    .dataframe thead th {\n",
       "        text-align: right;\n",
       "    }\n",
       "</style>\n",
       "<table border=\"1\" class=\"dataframe\">\n",
       "  <thead>\n",
       "    <tr style=\"text-align: right;\">\n",
       "      <th></th>\n",
       "      <th>indicator</th>\n",
       "      <th>country</th>\n",
       "      <th>countryiso3code</th>\n",
       "      <th>date</th>\n",
       "      <th>value</th>\n",
       "      <th>unit</th>\n",
       "      <th>obs_status</th>\n",
       "      <th>decimal</th>\n",
       "    </tr>\n",
       "  </thead>\n",
       "  <tbody>\n",
       "    <tr>\n",
       "      <th>0</th>\n",
       "      <td>{'id': 'AG.LND.FRST.ZS', 'value': 'Forest area...</td>\n",
       "      <td>{'id': 'CA', 'value': 'Canada'}</td>\n",
       "      <td>CAN</td>\n",
       "      <td>2020</td>\n",
       "      <td>38.695513</td>\n",
       "      <td></td>\n",
       "      <td></td>\n",
       "      <td>1</td>\n",
       "    </tr>\n",
       "    <tr>\n",
       "      <th>1</th>\n",
       "      <td>{'id': 'AG.LND.FRST.ZS', 'value': 'Forest area...</td>\n",
       "      <td>{'id': 'CA', 'value': 'Canada'}</td>\n",
       "      <td>CAN</td>\n",
       "      <td>2019</td>\n",
       "      <td>38.699637</td>\n",
       "      <td></td>\n",
       "      <td></td>\n",
       "      <td>1</td>\n",
       "    </tr>\n",
       "    <tr>\n",
       "      <th>2</th>\n",
       "      <td>{'id': 'AG.LND.FRST.ZS', 'value': 'Forest area...</td>\n",
       "      <td>{'id': 'CA', 'value': 'Canada'}</td>\n",
       "      <td>CAN</td>\n",
       "      <td>2018</td>\n",
       "      <td>38.703763</td>\n",
       "      <td></td>\n",
       "      <td></td>\n",
       "      <td>1</td>\n",
       "    </tr>\n",
       "    <tr>\n",
       "      <th>3</th>\n",
       "      <td>{'id': 'AG.LND.FRST.ZS', 'value': 'Forest area...</td>\n",
       "      <td>{'id': 'CA', 'value': 'Canada'}</td>\n",
       "      <td>CAN</td>\n",
       "      <td>2017</td>\n",
       "      <td>38.707888</td>\n",
       "      <td></td>\n",
       "      <td></td>\n",
       "      <td>1</td>\n",
       "    </tr>\n",
       "    <tr>\n",
       "      <th>4</th>\n",
       "      <td>{'id': 'AG.LND.FRST.ZS', 'value': 'Forest area...</td>\n",
       "      <td>{'id': 'CA', 'value': 'Canada'}</td>\n",
       "      <td>CAN</td>\n",
       "      <td>2016</td>\n",
       "      <td>38.712013</td>\n",
       "      <td></td>\n",
       "      <td></td>\n",
       "      <td>1</td>\n",
       "    </tr>\n",
       "  </tbody>\n",
       "</table>\n",
       "</div>"
      ],
      "text/plain": [
       "                                           indicator  \\\n",
       "0  {'id': 'AG.LND.FRST.ZS', 'value': 'Forest area...   \n",
       "1  {'id': 'AG.LND.FRST.ZS', 'value': 'Forest area...   \n",
       "2  {'id': 'AG.LND.FRST.ZS', 'value': 'Forest area...   \n",
       "3  {'id': 'AG.LND.FRST.ZS', 'value': 'Forest area...   \n",
       "4  {'id': 'AG.LND.FRST.ZS', 'value': 'Forest area...   \n",
       "\n",
       "                           country countryiso3code  date      value unit  \\\n",
       "0  {'id': 'CA', 'value': 'Canada'}             CAN  2020  38.695513        \n",
       "1  {'id': 'CA', 'value': 'Canada'}             CAN  2019  38.699637        \n",
       "2  {'id': 'CA', 'value': 'Canada'}             CAN  2018  38.703763        \n",
       "3  {'id': 'CA', 'value': 'Canada'}             CAN  2017  38.707888        \n",
       "4  {'id': 'CA', 'value': 'Canada'}             CAN  2016  38.712013        \n",
       "\n",
       "  obs_status  decimal  \n",
       "0                   1  \n",
       "1                   1  \n",
       "2                   1  \n",
       "3                   1  \n",
       "4                   1  "
      ]
     },
     "execution_count": 12,
     "metadata": {},
     "output_type": "execute_result"
    }
   ],
   "source": [
    "df.head()\n"
   ]
  },
  {
   "cell_type": "markdown",
   "id": "8caaf87a",
   "metadata": {},
   "source": [
    "checking average forest coverage for selected countries"
   ]
  },
  {
   "cell_type": "code",
   "execution_count": 13,
   "id": "956c63f2",
   "metadata": {},
   "outputs": [
    {
     "name": "stdout",
     "output_type": "stream",
     "text": [
      "Average forest coverage by country:\n",
      "countryiso3code\n",
      "CAN    38.741693\n",
      "MEX    34.463532\n",
      "USA    33.631871\n",
      "Name: value, dtype: float64\n"
     ]
    }
   ],
   "source": [
    "\n",
    "# Calculate the average forest coverage for each country\n",
    "avg_forest_coverage = df.groupby('countryiso3code')['value'].mean()\n",
    "\n",
    "# Print the average forest coverage for each country\n",
    "print('Average forest coverage by country:')\n",
    "print(avg_forest_coverage)\n"
   ]
  },
  {
   "cell_type": "markdown",
   "id": "88c32d58",
   "metadata": {},
   "source": [
    "checking min and max coverage "
   ]
  },
  {
   "cell_type": "code",
   "execution_count": 15,
   "id": "e2b7348b",
   "metadata": {},
   "outputs": [
    {
     "name": "stdout",
     "output_type": "stream",
     "text": [
      "The country with the highest forest coverage is {'id': 'CA', 'value': 'Canada'} with a coverage of 38.79%.\n",
      "The country with the lowest forest coverage is {'id': 'US', 'value': 'United States'} with a coverage of 33.13%.\n"
     ]
    }
   ],
   "source": [
    "\n",
    "# Determine which country has the highest and lowest forest coverage\n",
    "max_coverage = df.loc[df['value'].idxmax()]\n",
    "min_coverage = df.loc[df['value'].idxmin()]\n",
    "\n",
    "# Print the country with the highest and lowest forest coverage\n",
    "print(f'The country with the highest forest coverage is {max_coverage[\"country\"]} with a coverage of {max_coverage[\"value\"]:.2f}%.')\n",
    "print(f'The country with the lowest forest coverage is {min_coverage[\"country\"]} with a coverage of {min_coverage[\"value\"]:.2f}%.')\n",
    "\n",
    "# Determine if any country has seen significant increases or decreases in forest coverage during the specified time period\n",
    "for country in countries:\n",
    "    country_data = df.loc[df['countryiso3code'] == country]\n",
    "    initial_coverage = country_data.loc[country_data['date'] == str(start_year)]['value'].values[0]\n",
    "    final_coverage = country_data.loc[country_data['date'] == str(end_year)]['value'].values[0]\n",
    "    change = final_coverage - initial_coverage\n",
    "    if abs(change) > 5:\n",
    "        if change > 0:\n",
    "            print(f'{country} has seen a significant increase in forest coverage of {change:.2f}% between {start_year} and {end_year}.')\n",
    "        else:\n",
    "            print(f'{country} has seen a significant decrease in forest coverage of {change:.2f}% between {start_year} and {end_year}.')\n",
    "\n",
    "\n"
   ]
  },
  {
   "cell_type": "code",
   "execution_count": 21,
   "id": "bdaf19bf",
   "metadata": {},
   "outputs": [],
   "source": [
    "# Retrieve the global forest coverage data for the specified time period\n",
    "global_forest_data = wbdata.get_data(indicator_code,  data_date=(start_date, end_date))\n",
    "\n"
   ]
  },
  {
   "cell_type": "code",
   "execution_count": 19,
   "id": "182021f5",
   "metadata": {},
   "outputs": [
    {
     "data": {
      "text/html": [
       "<div>\n",
       "<style scoped>\n",
       "    .dataframe tbody tr th:only-of-type {\n",
       "        vertical-align: middle;\n",
       "    }\n",
       "\n",
       "    .dataframe tbody tr th {\n",
       "        vertical-align: top;\n",
       "    }\n",
       "\n",
       "    .dataframe thead th {\n",
       "        text-align: right;\n",
       "    }\n",
       "</style>\n",
       "<table border=\"1\" class=\"dataframe\">\n",
       "  <thead>\n",
       "    <tr style=\"text-align: right;\">\n",
       "      <th></th>\n",
       "      <th>indicator</th>\n",
       "      <th>country</th>\n",
       "      <th>countryiso3code</th>\n",
       "      <th>date</th>\n",
       "      <th>value</th>\n",
       "      <th>unit</th>\n",
       "      <th>obs_status</th>\n",
       "      <th>decimal</th>\n",
       "    </tr>\n",
       "  </thead>\n",
       "  <tbody>\n",
       "    <tr>\n",
       "      <th>0</th>\n",
       "      <td>{'id': 'AG.LND.FRST.ZS', 'value': 'Forest area...</td>\n",
       "      <td>{'id': 'ZH', 'value': 'Africa Eastern and Sout...</td>\n",
       "      <td>AFE</td>\n",
       "      <td>2020</td>\n",
       "      <td>30.174186</td>\n",
       "      <td></td>\n",
       "      <td></td>\n",
       "      <td>1</td>\n",
       "    </tr>\n",
       "    <tr>\n",
       "      <th>1</th>\n",
       "      <td>{'id': 'AG.LND.FRST.ZS', 'value': 'Forest area...</td>\n",
       "      <td>{'id': 'ZH', 'value': 'Africa Eastern and Sout...</td>\n",
       "      <td>AFE</td>\n",
       "      <td>2019</td>\n",
       "      <td>30.391558</td>\n",
       "      <td></td>\n",
       "      <td></td>\n",
       "      <td>1</td>\n",
       "    </tr>\n",
       "    <tr>\n",
       "      <th>2</th>\n",
       "      <td>{'id': 'AG.LND.FRST.ZS', 'value': 'Forest area...</td>\n",
       "      <td>{'id': 'ZH', 'value': 'Africa Eastern and Sout...</td>\n",
       "      <td>AFE</td>\n",
       "      <td>2018</td>\n",
       "      <td>30.611444</td>\n",
       "      <td></td>\n",
       "      <td></td>\n",
       "      <td>1</td>\n",
       "    </tr>\n",
       "    <tr>\n",
       "      <th>3</th>\n",
       "      <td>{'id': 'AG.LND.FRST.ZS', 'value': 'Forest area...</td>\n",
       "      <td>{'id': 'ZH', 'value': 'Africa Eastern and Sout...</td>\n",
       "      <td>AFE</td>\n",
       "      <td>2017</td>\n",
       "      <td>30.824248</td>\n",
       "      <td></td>\n",
       "      <td></td>\n",
       "      <td>1</td>\n",
       "    </tr>\n",
       "    <tr>\n",
       "      <th>4</th>\n",
       "      <td>{'id': 'AG.LND.FRST.ZS', 'value': 'Forest area...</td>\n",
       "      <td>{'id': 'ZH', 'value': 'Africa Eastern and Sout...</td>\n",
       "      <td>AFE</td>\n",
       "      <td>2016</td>\n",
       "      <td>31.039613</td>\n",
       "      <td></td>\n",
       "      <td></td>\n",
       "      <td>1</td>\n",
       "    </tr>\n",
       "  </tbody>\n",
       "</table>\n",
       "</div>"
      ],
      "text/plain": [
       "                                           indicator  \\\n",
       "0  {'id': 'AG.LND.FRST.ZS', 'value': 'Forest area...   \n",
       "1  {'id': 'AG.LND.FRST.ZS', 'value': 'Forest area...   \n",
       "2  {'id': 'AG.LND.FRST.ZS', 'value': 'Forest area...   \n",
       "3  {'id': 'AG.LND.FRST.ZS', 'value': 'Forest area...   \n",
       "4  {'id': 'AG.LND.FRST.ZS', 'value': 'Forest area...   \n",
       "\n",
       "                                             country countryiso3code  date  \\\n",
       "0  {'id': 'ZH', 'value': 'Africa Eastern and Sout...             AFE  2020   \n",
       "1  {'id': 'ZH', 'value': 'Africa Eastern and Sout...             AFE  2019   \n",
       "2  {'id': 'ZH', 'value': 'Africa Eastern and Sout...             AFE  2018   \n",
       "3  {'id': 'ZH', 'value': 'Africa Eastern and Sout...             AFE  2017   \n",
       "4  {'id': 'ZH', 'value': 'Africa Eastern and Sout...             AFE  2016   \n",
       "\n",
       "       value unit obs_status  decimal  \n",
       "0  30.174186                        1  \n",
       "1  30.391558                        1  \n",
       "2  30.611444                        1  \n",
       "3  30.824248                        1  \n",
       "4  31.039613                        1  "
      ]
     },
     "execution_count": 19,
     "metadata": {},
     "output_type": "execute_result"
    }
   ],
   "source": [
    "global_forest_df = pd.DataFrame(global_forest_data)\n",
    "global_forest_df.head()"
   ]
  },
  {
   "cell_type": "code",
   "execution_count": 26,
   "id": "20e72282",
   "metadata": {},
   "outputs": [
    {
     "name": "stdout",
     "output_type": "stream",
     "text": [
      "35.61236560761129\n",
      "The selected countries have higher than average forest coverage compared to the global average.\n"
     ]
    }
   ],
   "source": [
    "# Calculate the average global forest coverage for the specified time period\n",
    "global_avg_forest_coverage = df['value'].mean()\n",
    "print(global_avg_forest_coverage)\n",
    "\n",
    "# Compare the average forest coverage in the selected countries to the global average\n",
    "if avg_forest_coverage.mean() > global_avg_forest_coverage:\n",
    "    print('The selected countries have higher than average forest coverage compared to the global average.')\n",
    "elif avg_forest_coverage.mean() < global_avg_forest_coverage:\n",
    "    print('The selected countries have lower than average forest coverage compared to the global average.')\n",
    "else:\n",
    "    print('The selected countries have average forest coverage compared to the global average.')"
   ]
  },
  {
   "cell_type": "code",
   "execution_count": 36,
   "id": "28c2e44a",
   "metadata": {},
   "outputs": [
    {
     "name": "stdout",
     "output_type": "stream",
     "text": [
      "Requirement already satisfied: pycountry in c:\\users\\bogla_d7nsnlv\\anaconda3\\lib\\site-packages (22.3.5)Note: you may need to restart the kernel to use updated packages.\n",
      "Collecting pycountry_convert\n",
      "  Downloading pycountry_convert-0.7.2-py3-none-any.whl (13 kB)\n",
      "Requirement already satisfied: setuptools in c:\\users\\bogla_d7nsnlv\\anaconda3\\lib\\site-packages (from pycountry) (52.0.0.post20210125)\n",
      "Collecting repoze.lru>=0.7\n",
      "  Downloading repoze.lru-0.7-py3-none-any.whl (10 kB)\n",
      "Collecting pprintpp>=0.3.0\n",
      "  Downloading pprintpp-0.4.0-py2.py3-none-any.whl (16 kB)\n",
      "Collecting pytest-mock>=1.6.3\n",
      "  Downloading pytest_mock-3.10.0-py3-none-any.whl (9.3 kB)\n",
      "Collecting pytest-cov>=2.5.1\n",
      "  Downloading pytest_cov-4.0.0-py3-none-any.whl (21 kB)\n",
      "Requirement already satisfied: pytest>=3.4.0 in c:\\users\\bogla_d7nsnlv\\anaconda3\\lib\\site-packages (from pycountry_convert) (6.2.3)\n",
      "Requirement already satisfied: wheel>=0.30.0 in c:\\users\\bogla_d7nsnlv\\anaconda3\\lib\\site-packages (from pycountry_convert) (0.36.2)\n",
      "Requirement already satisfied: attrs>=19.2.0 in c:\\users\\bogla_d7nsnlv\\anaconda3\\lib\\site-packages (from pytest>=3.4.0->pycountry_convert) (20.3.0)\n",
      "Requirement already satisfied: iniconfig in c:\\users\\bogla_d7nsnlv\\anaconda3\\lib\\site-packages (from pytest>=3.4.0->pycountry_convert) (1.1.1)\n",
      "Requirement already satisfied: packaging in c:\\users\\bogla_d7nsnlv\\anaconda3\\lib\\site-packages (from pytest>=3.4.0->pycountry_convert) (20.9)\n",
      "Requirement already satisfied: pluggy<1.0.0a1,>=0.12 in c:\\users\\bogla_d7nsnlv\\anaconda3\\lib\\site-packages (from pytest>=3.4.0->pycountry_convert) (0.13.1)\n",
      "Requirement already satisfied: py>=1.8.2 in c:\\users\\bogla_d7nsnlv\\anaconda3\\lib\\site-packages (from pytest>=3.4.0->pycountry_convert) (1.10.0)\n",
      "Requirement already satisfied: toml in c:\\users\\bogla_d7nsnlv\\anaconda3\\lib\\site-packages (from pytest>=3.4.0->pycountry_convert) (0.10.2)\n",
      "Requirement already satisfied: atomicwrites>=1.0 in c:\\users\\bogla_d7nsnlv\\anaconda3\\lib\\site-packages (from pytest>=3.4.0->pycountry_convert) (1.4.0)\n",
      "Requirement already satisfied: colorama in c:\\users\\bogla_d7nsnlv\\anaconda3\\lib\\site-packages (from pytest>=3.4.0->pycountry_convert) (0.4.4)\n",
      "Collecting coverage[toml]>=5.2.1\n",
      "  Downloading coverage-7.2.3-cp38-cp38-win_amd64.whl (203 kB)\n",
      "Collecting tomli\n",
      "  Downloading tomli-2.0.1-py3-none-any.whl (12 kB)\n",
      "Requirement already satisfied: pyparsing>=2.0.2 in c:\\users\\bogla_d7nsnlv\\anaconda3\\lib\\site-packages (from packaging->pytest>=3.4.0->pycountry_convert) (2.4.7)\n",
      "Installing collected packages: tomli, coverage, repoze.lru, pytest-mock, pytest-cov, pprintpp, pycountry-convert\n",
      "Successfully installed coverage-7.2.3 pprintpp-0.4.0 pycountry-convert-0.7.2 pytest-cov-4.0.0 pytest-mock-3.10.0 repoze.lru-0.7 tomli-2.0.1\n",
      "\n"
     ]
    }
   ],
   "source": [
    "pip install pycountry pycountry_convert"
   ]
  },
  {
   "cell_type": "code",
   "execution_count": 53,
   "id": "6eebd13d",
   "metadata": {},
   "outputs": [
    {
     "name": "stdout",
     "output_type": "stream",
     "text": [
      "{'ABW': 'North America', 'AFG': 'Asia', 'AGO': 'Africa', 'AIA': 'North America', 'ALA': 'Europe', 'ALB': 'Europe', 'AND': 'Europe', 'ARE': 'Asia', 'ARG': 'South America', 'ARM': 'Asia', 'ASM': 'Oceania', 'ATG': 'North America', 'AUS': 'Oceania', 'AUT': 'Europe', 'AZE': 'Asia', 'BDI': 'Africa', 'BEL': 'Europe', 'BEN': 'Africa', 'BES': 'North America', 'BFA': 'Africa', 'BGD': 'Asia', 'BGR': 'Europe', 'BHR': 'Asia', 'BHS': 'North America', 'BIH': 'Europe', 'BLM': 'North America', 'BLR': 'Europe', 'BLZ': 'North America', 'BMU': 'North America', 'BOL': 'South America', 'BRA': 'South America', 'BRB': 'North America', 'BRN': 'Asia', 'BTN': 'Asia', 'BVT': 'Antarctica', 'BWA': 'Africa', 'CAF': 'Africa', 'CAN': 'North America', 'CCK': 'Asia', 'CHE': 'Europe', 'CHL': 'South America', 'CHN': 'Asia', 'CIV': 'Africa', 'CMR': 'Africa', 'COD': 'Africa', 'COG': 'Africa', 'COK': 'Oceania', 'COL': 'South America', 'COM': 'Africa', 'CPV': 'Africa', 'CRI': 'North America', 'CUB': 'North America', 'CUW': 'North America', 'CXR': 'Asia', 'CYM': 'North America', 'CYP': 'Asia', 'CZE': 'Europe', 'DEU': 'Europe', 'DJI': 'Africa', 'DMA': 'North America', 'DNK': 'Europe', 'DOM': 'North America', 'DZA': 'Africa', 'ECU': 'South America', 'EGY': 'Africa', 'ERI': 'Africa', 'ESP': 'Europe', 'EST': 'Europe', 'ETH': 'Africa', 'FIN': 'Europe', 'FJI': 'Oceania', 'FLK': 'South America', 'FRA': 'Europe', 'FRO': 'Europe', 'FSM': 'Oceania', 'GAB': 'Africa', 'GBR': 'Europe', 'GEO': 'Asia', 'GGY': 'Europe', 'GHA': 'Africa', 'GIB': 'Europe', 'GIN': 'Africa', 'GLP': 'North America', 'GMB': 'Africa', 'GNB': 'Africa', 'GNQ': 'Africa', 'GRC': 'Europe', 'GRD': 'North America', 'GRL': 'North America', 'GTM': 'North America', 'GUF': 'South America', 'GUM': 'Oceania', 'GUY': 'South America', 'HKG': 'Asia', 'HMD': 'Antarctica', 'HND': 'North America', 'HRV': 'Europe', 'HTI': 'North America', 'HUN': 'Europe', 'IDN': 'Asia', 'IMN': 'Europe', 'IND': 'Asia', 'IOT': 'Asia', 'IRL': 'Europe', 'IRN': 'Asia', 'IRQ': 'Asia', 'ISL': 'Europe', 'ISR': 'Asia', 'ITA': 'Europe', 'JAM': 'North America', 'JEY': 'Europe', 'JOR': 'Asia', 'JPN': 'Asia', 'KAZ': 'Asia', 'KEN': 'Africa', 'KGZ': 'Asia', 'KHM': 'Asia', 'KIR': 'Oceania', 'KNA': 'North America', 'KOR': 'Asia', 'KWT': 'Asia', 'LAO': 'Asia', 'LBN': 'Asia', 'LBR': 'Africa', 'LBY': 'Africa', 'LCA': 'North America', 'LIE': 'Europe', 'LKA': 'Asia', 'LSO': 'Africa', 'LTU': 'Europe', 'LUX': 'Europe', 'LVA': 'Europe', 'MAC': 'Asia', 'MAF': 'North America', 'MAR': 'Africa', 'MCO': 'Europe', 'MDA': 'Europe', 'MDG': 'Africa', 'MDV': 'Asia', 'MEX': 'North America', 'MHL': 'Oceania', 'MKD': 'Europe', 'MLI': 'Africa', 'MLT': 'Europe', 'MMR': 'Asia', 'MNE': 'Europe', 'MNG': 'Asia', 'MNP': 'Oceania', 'MOZ': 'Africa', 'MRT': 'Africa', 'MSR': 'North America', 'MTQ': 'North America', 'MUS': 'Africa', 'MWI': 'Africa', 'MYS': 'Asia', 'MYT': 'Africa', 'NAM': 'Africa', 'NCL': 'Oceania', 'NER': 'Africa', 'NFK': 'Oceania', 'NGA': 'Africa', 'NIC': 'North America', 'NIU': 'Oceania', 'NLD': 'Europe', 'NOR': 'Europe', 'NPL': 'Asia', 'NRU': 'Oceania', 'NZL': 'Oceania', 'OMN': 'Asia', 'PAK': 'Asia', 'PAN': 'North America', 'PER': 'South America', 'PHL': 'Asia', 'PLW': 'Oceania', 'PNG': 'Oceania', 'POL': 'Europe', 'PRI': 'North America', 'PRK': 'Asia', 'PRT': 'Europe', 'PRY': 'South America', 'PSE': 'Asia', 'PYF': 'Oceania', 'QAT': 'Asia', 'REU': 'Africa', 'ROU': 'Europe', 'RUS': 'Europe', 'RWA': 'Africa', 'SAU': 'Asia', 'SDN': 'Africa', 'SEN': 'Africa', 'SGP': 'Asia', 'SGS': 'South America', 'SHN': 'Africa', 'SJM': 'Europe', 'SLB': 'Oceania', 'SLE': 'Africa', 'SLV': 'North America', 'SMR': 'Europe', 'SOM': 'Africa', 'SPM': 'North America', 'SRB': 'Europe', 'SSD': 'Africa', 'STP': 'Africa', 'SUR': 'South America', 'SVK': 'Europe', 'SVN': 'Europe', 'SWE': 'Europe', 'SWZ': 'Africa', 'SYC': 'Africa', 'SYR': 'Asia', 'TCA': 'North America', 'TCD': 'Africa', 'TGO': 'Africa', 'THA': 'Asia', 'TJK': 'Asia', 'TKL': 'Oceania', 'TKM': 'Asia', 'TON': 'Oceania', 'TTO': 'North America', 'TUN': 'Africa', 'TUR': 'Asia', 'TUV': 'Oceania', 'TWN': 'Asia', 'TZA': 'Africa', 'UGA': 'Africa', 'UKR': 'Europe', 'URY': 'South America', 'USA': 'North America', 'UZB': 'Asia', 'VCT': 'North America', 'VEN': 'South America', 'VGB': 'North America', 'VIR': 'North America', 'VNM': 'Asia', 'VUT': 'Oceania', 'WLF': 'Oceania', 'WSM': 'Oceania', 'YEM': 'Asia', 'ZAF': 'Africa', 'ZMB': 'Africa', 'ZWE': 'Africa'}\n"
     ]
    }
   ],
   "source": [
    "import pycountry\n",
    "import pycountry_convert as pc\n",
    "\n",
    "def country_to_continent (country_alpha2):        \n",
    "    continent_code = pc.country_alpha2_to_continent_code (country_alpha2)    \n",
    "    continent_name = pc.convert_continent_code_to_continent_name(continent_code)\n",
    "    return continent_name\n",
    "\n",
    "# Create a lookup table mapping country codes to continents\n",
    "country_code_to_continent = {}\n",
    "for country in pycountry.countries:  \n",
    "    try:\n",
    "        continent = country_to_continent(country.alpha_2)        \n",
    "        country_code_to_continent[country.alpha_3]=   continent \n",
    "    except:\n",
    "        pass\n",
    "print(country_code_to_continent)\n"
   ]
  }
 ],
 "metadata": {
  "kernelspec": {
   "display_name": "Python 3",
   "language": "python",
   "name": "python3"
  },
  "language_info": {
   "codemirror_mode": {
    "name": "ipython",
    "version": 3
   },
   "file_extension": ".py",
   "mimetype": "text/x-python",
   "name": "python",
   "nbconvert_exporter": "python",
   "pygments_lexer": "ipython3",
   "version": "3.8.8"
  }
 },
 "nbformat": 4,
 "nbformat_minor": 5
}
