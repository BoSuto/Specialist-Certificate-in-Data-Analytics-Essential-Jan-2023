{
 "cells": [
  {
   "cell_type": "markdown",
   "id": "fd07dabe",
   "metadata": {},
   "source": [
    "DATASETS\n",
    "\n",
    "1. World Bank Open Data - Forest coverage (API)\n",
    "2. UN Data - Population by sex and urban/rural residence between 2000 - 2020 (csv)\n",
    "3. Food and Agriculture Organization of the United Nations (FAO) - FAOSTAT (csv)\n"
   ]
  },
  {
   "cell_type": "code",
   "execution_count": 41,
   "id": "f0074a11",
   "metadata": {},
   "outputs": [],
   "source": [
    "import numpy as np\n",
    "import pandas as pd\n",
    "import seaborn as sns\n",
    "import matplotlib.pyplot as plt\n",
    "import re \n",
    "regex_pattern = re.compile(r'\\s\\((.*?)\\)|(\\s?,.*)')"
   ]
  },
  {
   "cell_type": "markdown",
   "id": "6f0577c8",
   "metadata": {},
   "source": [
    "To access the World Bank Open Data API using Python, we installed the wbdata library"
   ]
  },
  {
   "cell_type": "code",
   "execution_count": 2,
   "id": "e76a003c",
   "metadata": {},
   "outputs": [
    {
     "name": "stdout",
     "output_type": "stream",
     "text": [
      "Requirement already satisfied: wbdata in c:\\users\\bogla_d7nsnlv\\anaconda3\\lib\\site-packages (0.3.0)Note: you may need to restart the kernel to use updated packages.\n",
      "Requirement already satisfied: decorator>=4.0 in c:\\users\\bogla_d7nsnlv\\anaconda3\\lib\\site-packages (from wbdata) (5.0.6)\n",
      "Requirement already satisfied: tabulate>=0.8.5 in c:\\users\\bogla_d7nsnlv\\anaconda3\\lib\\site-packages (from wbdata) (0.9.0)\n",
      "\n",
      "Requirement already satisfied: requests>=2.0 in c:\\users\\bogla_d7nsnlv\\anaconda3\\lib\\site-packages (from wbdata) (2.25.1)\n",
      "Requirement already satisfied: appdirs<2.0,>=1.4 in c:\\users\\bogla_d7nsnlv\\anaconda3\\lib\\site-packages (from wbdata) (1.4.4)\n",
      "Requirement already satisfied: certifi>=2017.4.17 in c:\\users\\bogla_d7nsnlv\\anaconda3\\lib\\site-packages (from requests>=2.0->wbdata) (2020.12.5)\n",
      "Requirement already satisfied: urllib3<1.27,>=1.21.1 in c:\\users\\bogla_d7nsnlv\\anaconda3\\lib\\site-packages (from requests>=2.0->wbdata) (1.26.4)\n",
      "Requirement already satisfied: idna<3,>=2.5 in c:\\users\\bogla_d7nsnlv\\anaconda3\\lib\\site-packages (from requests>=2.0->wbdata) (2.10)\n",
      "Requirement already satisfied: chardet<5,>=3.0.2 in c:\\users\\bogla_d7nsnlv\\anaconda3\\lib\\site-packages (from requests>=2.0->wbdata) (4.0.0)\n"
     ]
    }
   ],
   "source": [
    "pip install wbdata"
   ]
  },
  {
   "cell_type": "markdown",
   "id": "ce077537",
   "metadata": {},
   "source": [
    "Imported the data and looked at timeframe, countries and created the dataframe"
   ]
  },
  {
   "cell_type": "code",
   "execution_count": 3,
   "id": "83c06f2f",
   "metadata": {},
   "outputs": [
    {
     "name": "stdout",
     "output_type": "stream",
     "text": [
      "<class 'pandas.core.frame.DataFrame'>\n",
      "RangeIndex: 63 entries, 0 to 62\n",
      "Data columns (total 8 columns):\n",
      " #   Column           Non-Null Count  Dtype  \n",
      "---  ------           --------------  -----  \n",
      " 0   indicator        63 non-null     object \n",
      " 1   country          63 non-null     object \n",
      " 2   countryiso3code  63 non-null     object \n",
      " 3   date             63 non-null     object \n",
      " 4   value            63 non-null     float64\n",
      " 5   unit             63 non-null     object \n",
      " 6   obs_status       63 non-null     object \n",
      " 7   decimal          63 non-null     int64  \n",
      "dtypes: float64(1), int64(1), object(6)\n",
      "memory usage: 4.1+ KB\n"
     ]
    }
   ],
   "source": [
    "import wbdata\n",
    "import pandas as pd\n",
    "import datetime \n",
    "\n",
    "# Set the indicator code for forest coverage\n",
    "indicator_code = 'AG.LND.FRST.ZS'\n",
    "\n",
    "# Set the start and end year for the data\n",
    "start_year = 2000\n",
    "end_year = 2020\n",
    "\n",
    "# Set the countries to retrieve data for\n",
    "countries = ['USA', 'CAN', 'MEX']\n",
    "\n",
    "# Retrieve the data\n",
    "start_date = datetime.datetime(start_year, 1, 1)\n",
    "end_date = datetime.datetime(end_year, 12, 31)\n",
    "\n",
    "forest_data = wbdata.get_data(indicator_code, country=countries, data_date=(start_date, end_date))\n",
    "\n",
    "# Convert the data to a pandas DataFrame\n",
    "df = pd.DataFrame(forest_data)\n",
    "df.info()\n"
   ]
  },
  {
   "cell_type": "code",
   "execution_count": 4,
   "id": "e38c4f3a",
   "metadata": {
    "scrolled": true
   },
   "outputs": [
    {
     "data": {
      "text/html": [
       "<div>\n",
       "<style scoped>\n",
       "    .dataframe tbody tr th:only-of-type {\n",
       "        vertical-align: middle;\n",
       "    }\n",
       "\n",
       "    .dataframe tbody tr th {\n",
       "        vertical-align: top;\n",
       "    }\n",
       "\n",
       "    .dataframe thead th {\n",
       "        text-align: right;\n",
       "    }\n",
       "</style>\n",
       "<table border=\"1\" class=\"dataframe\">\n",
       "  <thead>\n",
       "    <tr style=\"text-align: right;\">\n",
       "      <th></th>\n",
       "      <th>indicator</th>\n",
       "      <th>country</th>\n",
       "      <th>countryiso3code</th>\n",
       "      <th>date</th>\n",
       "      <th>value</th>\n",
       "      <th>unit</th>\n",
       "      <th>obs_status</th>\n",
       "      <th>decimal</th>\n",
       "    </tr>\n",
       "  </thead>\n",
       "  <tbody>\n",
       "    <tr>\n",
       "      <th>0</th>\n",
       "      <td>{'id': 'AG.LND.FRST.ZS', 'value': 'Forest area...</td>\n",
       "      <td>{'id': 'CA', 'value': 'Canada'}</td>\n",
       "      <td>CAN</td>\n",
       "      <td>2020</td>\n",
       "      <td>38.695513</td>\n",
       "      <td></td>\n",
       "      <td></td>\n",
       "      <td>1</td>\n",
       "    </tr>\n",
       "    <tr>\n",
       "      <th>1</th>\n",
       "      <td>{'id': 'AG.LND.FRST.ZS', 'value': 'Forest area...</td>\n",
       "      <td>{'id': 'CA', 'value': 'Canada'}</td>\n",
       "      <td>CAN</td>\n",
       "      <td>2019</td>\n",
       "      <td>38.699637</td>\n",
       "      <td></td>\n",
       "      <td></td>\n",
       "      <td>1</td>\n",
       "    </tr>\n",
       "    <tr>\n",
       "      <th>2</th>\n",
       "      <td>{'id': 'AG.LND.FRST.ZS', 'value': 'Forest area...</td>\n",
       "      <td>{'id': 'CA', 'value': 'Canada'}</td>\n",
       "      <td>CAN</td>\n",
       "      <td>2018</td>\n",
       "      <td>38.703763</td>\n",
       "      <td></td>\n",
       "      <td></td>\n",
       "      <td>1</td>\n",
       "    </tr>\n",
       "    <tr>\n",
       "      <th>3</th>\n",
       "      <td>{'id': 'AG.LND.FRST.ZS', 'value': 'Forest area...</td>\n",
       "      <td>{'id': 'CA', 'value': 'Canada'}</td>\n",
       "      <td>CAN</td>\n",
       "      <td>2017</td>\n",
       "      <td>38.707888</td>\n",
       "      <td></td>\n",
       "      <td></td>\n",
       "      <td>1</td>\n",
       "    </tr>\n",
       "    <tr>\n",
       "      <th>4</th>\n",
       "      <td>{'id': 'AG.LND.FRST.ZS', 'value': 'Forest area...</td>\n",
       "      <td>{'id': 'CA', 'value': 'Canada'}</td>\n",
       "      <td>CAN</td>\n",
       "      <td>2016</td>\n",
       "      <td>38.712013</td>\n",
       "      <td></td>\n",
       "      <td></td>\n",
       "      <td>1</td>\n",
       "    </tr>\n",
       "  </tbody>\n",
       "</table>\n",
       "</div>"
      ],
      "text/plain": [
       "                                           indicator  \\\n",
       "0  {'id': 'AG.LND.FRST.ZS', 'value': 'Forest area...   \n",
       "1  {'id': 'AG.LND.FRST.ZS', 'value': 'Forest area...   \n",
       "2  {'id': 'AG.LND.FRST.ZS', 'value': 'Forest area...   \n",
       "3  {'id': 'AG.LND.FRST.ZS', 'value': 'Forest area...   \n",
       "4  {'id': 'AG.LND.FRST.ZS', 'value': 'Forest area...   \n",
       "\n",
       "                           country countryiso3code  date      value unit  \\\n",
       "0  {'id': 'CA', 'value': 'Canada'}             CAN  2020  38.695513        \n",
       "1  {'id': 'CA', 'value': 'Canada'}             CAN  2019  38.699637        \n",
       "2  {'id': 'CA', 'value': 'Canada'}             CAN  2018  38.703763        \n",
       "3  {'id': 'CA', 'value': 'Canada'}             CAN  2017  38.707888        \n",
       "4  {'id': 'CA', 'value': 'Canada'}             CAN  2016  38.712013        \n",
       "\n",
       "  obs_status  decimal  \n",
       "0                   1  \n",
       "1                   1  \n",
       "2                   1  \n",
       "3                   1  \n",
       "4                   1  "
      ]
     },
     "execution_count": 4,
     "metadata": {},
     "output_type": "execute_result"
    }
   ],
   "source": [
    "df.head()\n"
   ]
  },
  {
   "cell_type": "markdown",
   "id": "2eb5335c",
   "metadata": {},
   "source": [
    "checking average forest coverage for selected countries"
   ]
  },
  {
   "cell_type": "code",
   "execution_count": 5,
   "id": "449a0e16",
   "metadata": {},
   "outputs": [
    {
     "name": "stdout",
     "output_type": "stream",
     "text": [
      "Average forest coverage by country:\n",
      "countryiso3code\n",
      "CAN    38.741693\n",
      "MEX    34.463532\n",
      "USA    33.631871\n",
      "Name: value, dtype: float64\n"
     ]
    }
   ],
   "source": [
    "\n",
    "# Calculate the average forest coverage for each country\n",
    "avg_forest_coverage = df.groupby('countryiso3code')['value'].mean()\n",
    "\n",
    "# Print the average forest coverage for each country\n",
    "print('Average forest coverage by country:')\n",
    "print(avg_forest_coverage)\n"
   ]
  },
  {
   "cell_type": "markdown",
   "id": "b33645ae",
   "metadata": {},
   "source": [
    "checking min and max coverage "
   ]
  },
  {
   "cell_type": "code",
   "execution_count": 6,
   "id": "42d1c1a9",
   "metadata": {},
   "outputs": [
    {
     "name": "stdout",
     "output_type": "stream",
     "text": [
      "The country with the highest forest coverage is {'id': 'CA', 'value': 'Canada'} with a coverage of 38.79%.\n",
      "The country with the lowest forest coverage is {'id': 'US', 'value': 'United States'} with a coverage of 33.13%.\n"
     ]
    }
   ],
   "source": [
    "\n",
    "# Determine which country has the highest and lowest forest coverage\n",
    "max_coverage = df.loc[df['value'].idxmax()]\n",
    "min_coverage = df.loc[df['value'].idxmin()]\n",
    "\n",
    "# Print the country with the highest and lowest forest coverage\n",
    "print(f'The country with the highest forest coverage is {max_coverage[\"country\"]} with a coverage of {max_coverage[\"value\"]:.2f}%.')\n",
    "print(f'The country with the lowest forest coverage is {min_coverage[\"country\"]} with a coverage of {min_coverage[\"value\"]:.2f}%.')\n",
    "\n",
    "# Determine if any country has seen significant increases or decreases in forest coverage during the specified time period\n",
    "for country in countries:\n",
    "    country_data = df.loc[df['countryiso3code'] == country]\n",
    "    initial_coverage = country_data.loc[country_data['date'] == str(start_year)]['value'].values[0]\n",
    "    final_coverage = country_data.loc[country_data['date'] == str(end_year)]['value'].values[0]\n",
    "    change = final_coverage - initial_coverage\n",
    "    if abs(change) > 5:\n",
    "        if change > 0:\n",
    "            print(f'{country} has seen a significant increase in forest coverage of {change:.2f}% between {start_year} and {end_year}.')\n",
    "        else:\n",
    "            print(f'{country} has seen a significant decrease in forest coverage of {change:.2f}% between {start_year} and {end_year}.')\n",
    "\n",
    "\n"
   ]
  },
  {
   "cell_type": "code",
   "execution_count": 7,
   "id": "90f6bf8d",
   "metadata": {},
   "outputs": [],
   "source": [
    "# Retrieve the global forest coverage data for the specified time period\n",
    "global_forest_data = wbdata.get_data(indicator_code,  data_date=(start_date, end_date))\n",
    "\n"
   ]
  },
  {
   "cell_type": "code",
   "execution_count": 8,
   "id": "9220da39",
   "metadata": {},
   "outputs": [
    {
     "data": {
      "text/html": [
       "<div>\n",
       "<style scoped>\n",
       "    .dataframe tbody tr th:only-of-type {\n",
       "        vertical-align: middle;\n",
       "    }\n",
       "\n",
       "    .dataframe tbody tr th {\n",
       "        vertical-align: top;\n",
       "    }\n",
       "\n",
       "    .dataframe thead th {\n",
       "        text-align: right;\n",
       "    }\n",
       "</style>\n",
       "<table border=\"1\" class=\"dataframe\">\n",
       "  <thead>\n",
       "    <tr style=\"text-align: right;\">\n",
       "      <th></th>\n",
       "      <th>indicator</th>\n",
       "      <th>country</th>\n",
       "      <th>countryiso3code</th>\n",
       "      <th>date</th>\n",
       "      <th>value</th>\n",
       "      <th>unit</th>\n",
       "      <th>obs_status</th>\n",
       "      <th>decimal</th>\n",
       "    </tr>\n",
       "  </thead>\n",
       "  <tbody>\n",
       "    <tr>\n",
       "      <th>0</th>\n",
       "      <td>{'id': 'AG.LND.FRST.ZS', 'value': 'Forest area...</td>\n",
       "      <td>{'id': 'ZH', 'value': 'Africa Eastern and Sout...</td>\n",
       "      <td>AFE</td>\n",
       "      <td>2020</td>\n",
       "      <td>30.174186</td>\n",
       "      <td></td>\n",
       "      <td></td>\n",
       "      <td>1</td>\n",
       "    </tr>\n",
       "    <tr>\n",
       "      <th>1</th>\n",
       "      <td>{'id': 'AG.LND.FRST.ZS', 'value': 'Forest area...</td>\n",
       "      <td>{'id': 'ZH', 'value': 'Africa Eastern and Sout...</td>\n",
       "      <td>AFE</td>\n",
       "      <td>2019</td>\n",
       "      <td>30.391558</td>\n",
       "      <td></td>\n",
       "      <td></td>\n",
       "      <td>1</td>\n",
       "    </tr>\n",
       "    <tr>\n",
       "      <th>2</th>\n",
       "      <td>{'id': 'AG.LND.FRST.ZS', 'value': 'Forest area...</td>\n",
       "      <td>{'id': 'ZH', 'value': 'Africa Eastern and Sout...</td>\n",
       "      <td>AFE</td>\n",
       "      <td>2018</td>\n",
       "      <td>30.611444</td>\n",
       "      <td></td>\n",
       "      <td></td>\n",
       "      <td>1</td>\n",
       "    </tr>\n",
       "    <tr>\n",
       "      <th>3</th>\n",
       "      <td>{'id': 'AG.LND.FRST.ZS', 'value': 'Forest area...</td>\n",
       "      <td>{'id': 'ZH', 'value': 'Africa Eastern and Sout...</td>\n",
       "      <td>AFE</td>\n",
       "      <td>2017</td>\n",
       "      <td>30.824248</td>\n",
       "      <td></td>\n",
       "      <td></td>\n",
       "      <td>1</td>\n",
       "    </tr>\n",
       "    <tr>\n",
       "      <th>4</th>\n",
       "      <td>{'id': 'AG.LND.FRST.ZS', 'value': 'Forest area...</td>\n",
       "      <td>{'id': 'ZH', 'value': 'Africa Eastern and Sout...</td>\n",
       "      <td>AFE</td>\n",
       "      <td>2016</td>\n",
       "      <td>31.039613</td>\n",
       "      <td></td>\n",
       "      <td></td>\n",
       "      <td>1</td>\n",
       "    </tr>\n",
       "  </tbody>\n",
       "</table>\n",
       "</div>"
      ],
      "text/plain": [
       "                                           indicator  \\\n",
       "0  {'id': 'AG.LND.FRST.ZS', 'value': 'Forest area...   \n",
       "1  {'id': 'AG.LND.FRST.ZS', 'value': 'Forest area...   \n",
       "2  {'id': 'AG.LND.FRST.ZS', 'value': 'Forest area...   \n",
       "3  {'id': 'AG.LND.FRST.ZS', 'value': 'Forest area...   \n",
       "4  {'id': 'AG.LND.FRST.ZS', 'value': 'Forest area...   \n",
       "\n",
       "                                             country countryiso3code  date  \\\n",
       "0  {'id': 'ZH', 'value': 'Africa Eastern and Sout...             AFE  2020   \n",
       "1  {'id': 'ZH', 'value': 'Africa Eastern and Sout...             AFE  2019   \n",
       "2  {'id': 'ZH', 'value': 'Africa Eastern and Sout...             AFE  2018   \n",
       "3  {'id': 'ZH', 'value': 'Africa Eastern and Sout...             AFE  2017   \n",
       "4  {'id': 'ZH', 'value': 'Africa Eastern and Sout...             AFE  2016   \n",
       "\n",
       "       value unit obs_status  decimal  \n",
       "0  30.174186                        1  \n",
       "1  30.391558                        1  \n",
       "2  30.611444                        1  \n",
       "3  30.824248                        1  \n",
       "4  31.039613                        1  "
      ]
     },
     "execution_count": 8,
     "metadata": {},
     "output_type": "execute_result"
    }
   ],
   "source": [
    "global_forest_df = pd.DataFrame(global_forest_data)\n",
    "global_forest_df.head()"
   ]
  },
  {
   "cell_type": "code",
   "execution_count": 9,
   "id": "d57a516a",
   "metadata": {},
   "outputs": [
    {
     "name": "stdout",
     "output_type": "stream",
     "text": [
      "35.61236560761129\n",
      "The selected countries have higher than average forest coverage compared to the global average.\n"
     ]
    }
   ],
   "source": [
    "# Calculate the average global forest coverage for the specified time period\n",
    "global_avg_forest_coverage = df['value'].mean()\n",
    "print(global_avg_forest_coverage)\n",
    "\n",
    "# Compare the average forest coverage in the selected countries to the global average\n",
    "if avg_forest_coverage.mean() > global_avg_forest_coverage:\n",
    "    print('The selected countries have higher than average forest coverage compared to the global average.')\n",
    "elif avg_forest_coverage.mean() < global_avg_forest_coverage:\n",
    "    print('The selected countries have lower than average forest coverage compared to the global average.')\n",
    "else:\n",
    "    print('The selected countries have average forest coverage compared to the global average.')"
   ]
  },
  {
   "cell_type": "code",
   "execution_count": 10,
   "id": "be9b3d3d",
   "metadata": {},
   "outputs": [
    {
     "name": "stdout",
     "output_type": "stream",
     "text": [
      "Requirement already satisfied: pycountry in c:\\users\\bogla_d7nsnlv\\anaconda3\\lib\\site-packages (22.3.5)\n",
      "Requirement already satisfied: pycountry_convert in c:\\users\\bogla_d7nsnlv\\anaconda3\\lib\\site-packages (0.7.2)\n",
      "Requirement already satisfied: setuptools in c:\\users\\bogla_d7nsnlv\\anaconda3\\lib\\site-packages (from pycountry) (52.0.0.post20210125)\n",
      "Requirement already satisfied: pytest-cov>=2.5.1 in c:\\users\\bogla_d7nsnlv\\anaconda3\\lib\\site-packages (from pycountry_convert) (4.0.0)\n",
      "Requirement already satisfied: pytest-mock>=1.6.3 in c:\\users\\bogla_d7nsnlv\\anaconda3\\lib\\site-packages (from pycountry_convert) (3.10.0)\n",
      "Requirement already satisfied: pprintpp>=0.3.0 in c:\\users\\bogla_d7nsnlv\\anaconda3\\lib\\site-packages (from pycountry_convert) (0.4.0)\n",
      "Requirement already satisfied: pytest>=3.4.0 in c:\\users\\bogla_d7nsnlv\\anaconda3\\lib\\site-packages (from pycountry_convert) (6.2.3)\n",
      "Requirement already satisfied: repoze.lru>=0.7 in c:\\users\\bogla_d7nsnlv\\anaconda3\\lib\\site-packages (from pycountry_convert) (0.7)\n",
      "Requirement already satisfied: wheel>=0.30.0 in c:\\users\\bogla_d7nsnlv\\anaconda3\\lib\\site-packages (from pycountry_convert) (0.36.2)\n",
      "Requirement already satisfied: attrs>=19.2.0 in c:\\users\\bogla_d7nsnlv\\anaconda3\\lib\\site-packages (from pytest>=3.4.0->pycountry_convert) (20.3.0)\n",
      "Requirement already satisfied: iniconfig in c:\\users\\bogla_d7nsnlv\\anaconda3\\lib\\site-packages (from pytest>=3.4.0->pycountry_convert) (1.1.1)\n",
      "Requirement already satisfied: packaging in c:\\users\\bogla_d7nsnlv\\anaconda3\\lib\\site-packages (from pytest>=3.4.0->pycountry_convert) (20.9)\n",
      "Requirement already satisfied: pluggy<1.0.0a1,>=0.12 in c:\\users\\bogla_d7nsnlv\\anaconda3\\lib\\site-packages (from pytest>=3.4.0->pycountry_convert) (0.13.1)\n",
      "Requirement already satisfied: py>=1.8.2 in c:\\users\\bogla_d7nsnlv\\anaconda3\\lib\\site-packages (from pytest>=3.4.0->pycountry_convert) (1.10.0)\n",
      "Requirement already satisfied: toml in c:\\users\\bogla_d7nsnlv\\anaconda3\\lib\\site-packages (from pytest>=3.4.0->pycountry_convert) (0.10.2)\n",
      "Requirement already satisfied: atomicwrites>=1.0 in c:\\users\\bogla_d7nsnlv\\anaconda3\\lib\\site-packages (from pytest>=3.4.0->pycountry_convert) (1.4.0)\n",
      "Requirement already satisfied: colorama in c:\\users\\bogla_d7nsnlv\\anaconda3\\lib\\site-packages (from pytest>=3.4.0->pycountry_convert) (0.4.4)\n",
      "Requirement already satisfied: coverage[toml]>=5.2.1 in c:\\users\\bogla_d7nsnlv\\anaconda3\\lib\\site-packages (from pytest-cov>=2.5.1->pycountry_convert) (7.2.3)\n",
      "Requirement already satisfied: tomli in c:\\users\\bogla_d7nsnlv\\anaconda3\\lib\\site-packages (from coverage[toml]>=5.2.1->pytest-cov>=2.5.1->pycountry_convert) (2.0.1)\n",
      "Requirement already satisfied: pyparsing>=2.0.2 in c:\\users\\bogla_d7nsnlv\\anaconda3\\lib\\site-packages (from packaging->pytest>=3.4.0->pycountry_convert) (2.4.7)\n",
      "Note: you may need to restart the kernel to use updated packages.\n"
     ]
    }
   ],
   "source": [
    "pip install pycountry pycountry_convert"
   ]
  },
  {
   "cell_type": "code",
   "execution_count": 42,
   "id": "7cfc45a9",
   "metadata": {},
   "outputs": [],
   "source": [
    "def clean_country_name (name):\n",
    "    if name is None:\n",
    "        return name\n",
    "    return re.sub(regex_pattern, '', name)"
   ]
  },
  {
   "cell_type": "code",
   "execution_count": 43,
   "id": "e201419f",
   "metadata": {},
   "outputs": [
    {
     "name": "stdout",
     "output_type": "stream",
     "text": [
      "{'Aruba': 'North America', 'Afghanistan': 'Asia', 'Angola': 'Africa', 'Anguilla': 'North America', 'Åland Islands': 'Europe', 'Albania': 'Europe', 'Andorra': 'Europe', 'United Arab Emirates': 'Asia', 'Argentina': 'South America', 'Armenia': 'Asia', 'American Samoa': 'Oceania', 'Antigua and Barbuda': 'North America', 'Australia': 'Oceania', 'Austria': 'Europe', 'Azerbaijan': 'Asia', 'Burundi': 'Africa', 'Belgium': 'Europe', 'Benin': 'Africa', 'Bonaire': 'North America', 'Burkina Faso': 'Africa', 'Bangladesh': 'Asia', 'Bulgaria': 'Europe', 'Bahrain': 'Asia', 'Bahamas': 'North America', 'Bosnia and Herzegovina': 'Europe', 'Saint Barthélemy': 'North America', 'Belarus': 'Europe', 'Belize': 'North America', 'Bermuda': 'North America', 'Bolivia': 'South America', 'Brazil': 'South America', 'Barbados': 'North America', 'Brunei Darussalam': 'Asia', 'Bhutan': 'Asia', 'Bouvet Island': 'Antarctica', 'Botswana': 'Africa', 'Central African Republic': 'Africa', 'Canada': 'North America', 'Cocos Islands': 'Asia', 'Switzerland': 'Europe', 'Chile': 'South America', 'China': 'Asia', \"Côte d'Ivoire\": 'Africa', 'Cameroon': 'Africa', 'Congo': 'Africa', 'Cook Islands': 'Oceania', 'Colombia': 'South America', 'Comoros': 'Africa', 'Cabo Verde': 'Africa', 'Costa Rica': 'North America', 'Cuba': 'North America', 'Curaçao': 'North America', 'Christmas Island': 'Asia', 'Cayman Islands': 'North America', 'Cyprus': 'Asia', 'Czechia': 'Europe', 'Germany': 'Europe', 'Djibouti': 'Africa', 'Dominica': 'North America', 'Denmark': 'Europe', 'Dominican Republic': 'North America', 'Algeria': 'Africa', 'Ecuador': 'South America', 'Egypt': 'Africa', 'Eritrea': 'Africa', 'Spain': 'Europe', 'Estonia': 'Europe', 'Ethiopia': 'Africa', 'Finland': 'Europe', 'Fiji': 'Oceania', 'Falkland Islands': 'South America', 'France': 'Europe', 'Faroe Islands': 'Europe', 'Micronesia': 'Oceania', 'Gabon': 'Africa', 'United Kingdom': 'Europe', 'Georgia': 'Asia', 'Guernsey': 'Europe', 'Ghana': 'Africa', 'Gibraltar': 'Europe', 'Guinea': 'Africa', 'Guadeloupe': 'North America', 'Gambia': 'Africa', 'Guinea-Bissau': 'Africa', 'Equatorial Guinea': 'Africa', 'Greece': 'Europe', 'Grenada': 'North America', 'Greenland': 'North America', 'Guatemala': 'North America', 'French Guiana': 'South America', 'Guam': 'Oceania', 'Guyana': 'South America', 'Hong Kong': 'Asia', 'Heard Island and McDonald Islands': 'Antarctica', 'Honduras': 'North America', 'Croatia': 'Europe', 'Haiti': 'North America', 'Hungary': 'Europe', 'Indonesia': 'Asia', 'Isle of Man': 'Europe', 'India': 'Asia', 'British Indian Ocean Territory': 'Asia', 'Ireland': 'Europe', 'Iran': 'Asia', 'Iraq': 'Asia', 'Iceland': 'Europe', 'Israel': 'Asia', 'Italy': 'Europe', 'Jamaica': 'North America', 'Jersey': 'Europe', 'Jordan': 'Asia', 'Japan': 'Asia', 'Kazakhstan': 'Asia', 'Kenya': 'Africa', 'Kyrgyzstan': 'Asia', 'Cambodia': 'Asia', 'Kiribati': 'Oceania', 'Saint Kitts and Nevis': 'North America', 'Korea': 'Asia', 'Kuwait': 'Asia', \"Lao People's Democratic Republic\": 'Asia', 'Lebanon': 'Asia', 'Liberia': 'Africa', 'Libya': 'Africa', 'Saint Lucia': 'North America', 'Liechtenstein': 'Europe', 'Sri Lanka': 'Asia', 'Lesotho': 'Africa', 'Lithuania': 'Europe', 'Luxembourg': 'Europe', 'Latvia': 'Europe', 'Macao': 'Asia', 'Saint Martin': 'North America', 'Morocco': 'Africa', 'Monaco': 'Europe', 'Moldova': 'Europe', 'Madagascar': 'Africa', 'Maldives': 'Asia', 'Mexico': 'North America', 'Marshall Islands': 'Oceania', 'North Macedonia': 'Europe', 'Mali': 'Africa', 'Malta': 'Europe', 'Myanmar': 'Asia', 'Montenegro': 'Europe', 'Mongolia': 'Asia', 'Northern Mariana Islands': 'Oceania', 'Mozambique': 'Africa', 'Mauritania': 'Africa', 'Montserrat': 'North America', 'Martinique': 'North America', 'Mauritius': 'Africa', 'Malawi': 'Africa', 'Malaysia': 'Asia', 'Mayotte': 'Africa', 'Namibia': 'Africa', 'New Caledonia': 'Oceania', 'Niger': 'Africa', 'Norfolk Island': 'Oceania', 'Nigeria': 'Africa', 'Nicaragua': 'North America', 'Niue': 'Oceania', 'Netherlands': 'Europe', 'Norway': 'Europe', 'Nepal': 'Asia', 'Nauru': 'Oceania', 'New Zealand': 'Oceania', 'Oman': 'Asia', 'Pakistan': 'Asia', 'Panama': 'North America', 'Peru': 'South America', 'Philippines': 'Asia', 'Palau': 'Oceania', 'Papua New Guinea': 'Oceania', 'Poland': 'Europe', 'Puerto Rico': 'North America', 'Portugal': 'Europe', 'Paraguay': 'South America', 'Palestine': 'Asia', 'French Polynesia': 'Oceania', 'Qatar': 'Asia', 'Réunion': 'Africa', 'Romania': 'Europe', 'Russian Federation': 'Europe', 'Rwanda': 'Africa', 'Saudi Arabia': 'Asia', 'Sudan': 'Africa', 'Senegal': 'Africa', 'Singapore': 'Asia', 'South Georgia and the South Sandwich Islands': 'South America', 'Saint Helena': 'Africa', 'Svalbard and Jan Mayen': 'Europe', 'Solomon Islands': 'Oceania', 'Sierra Leone': 'Africa', 'El Salvador': 'North America', 'San Marino': 'Europe', 'Somalia': 'Africa', 'Saint Pierre and Miquelon': 'North America', 'Serbia': 'Europe', 'South Sudan': 'Africa', 'Sao Tome and Principe': 'Africa', 'Suriname': 'South America', 'Slovakia': 'Europe', 'Slovenia': 'Europe', 'Sweden': 'Europe', 'Eswatini': 'Africa', 'Seychelles': 'Africa', 'Syrian Arab Republic': 'Asia', 'Turks and Caicos Islands': 'North America', 'Chad': 'Africa', 'Togo': 'Africa', 'Thailand': 'Asia', 'Tajikistan': 'Asia', 'Tokelau': 'Oceania', 'Turkmenistan': 'Asia', 'Tonga': 'Oceania', 'Trinidad and Tobago': 'North America', 'Tunisia': 'Africa', 'Turkey': 'Asia', 'Tuvalu': 'Oceania', 'Taiwan': 'Asia', 'Tanzania': 'Africa', 'Uganda': 'Africa', 'Ukraine': 'Europe', 'Uruguay': 'South America', 'United States': 'North America', 'Uzbekistan': 'Asia', 'Saint Vincent and the Grenadines': 'North America', 'Venezuela': 'South America', 'Virgin Islands': 'North America', 'Viet Nam': 'Asia', 'Vanuatu': 'Oceania', 'Wallis and Futuna': 'Oceania', 'Samoa': 'Oceania', 'Yemen': 'Asia', 'South Africa': 'Africa', 'Zambia': 'Africa', 'Zimbabwe': 'Africa'}\n"
     ]
    }
   ],
   "source": [
    "import pycountry\n",
    "import pycountry_convert as pc\n",
    "\n",
    "def country_to_continent (country_alpha2):        \n",
    "    continent_code = pc.country_alpha2_to_continent_code (country_alpha2)    \n",
    "    continent_name = pc.convert_continent_code_to_continent_name(continent_code)\n",
    "    return continent_name\n",
    "\n",
    "def country_name_to_continent (country_name):        \n",
    "    try:\n",
    "        country_code = pc.country_name_to_country_alpha2(country_name)    \n",
    "        continent_name = country_to_continent(country_code)\n",
    "        return continent_name\n",
    "    except:        \n",
    "        pass\n",
    "    \n",
    "\n",
    "# Create a lookup table mapping country names to continents\n",
    "country_name_to_continent = {}\n",
    "for country in pycountry.countries:  \n",
    "    try:\n",
    "        continent = country_to_continent(country.alpha_2)        \n",
    "        country_name_to_continent[clean_country_name(country.name)]= continent         \n",
    "    except:\n",
    "        pass\n",
    "print(country_name_to_continent)\n",
    "\n",
    "\n"
   ]
  },
  {
   "cell_type": "code",
   "execution_count": 12,
   "id": "8b2f0496",
   "metadata": {},
   "outputs": [
    {
     "data": {
      "text/html": [
       "<div>\n",
       "<style scoped>\n",
       "    .dataframe tbody tr th:only-of-type {\n",
       "        vertical-align: middle;\n",
       "    }\n",
       "\n",
       "    .dataframe tbody tr th {\n",
       "        vertical-align: top;\n",
       "    }\n",
       "\n",
       "    .dataframe thead th {\n",
       "        text-align: right;\n",
       "    }\n",
       "</style>\n",
       "<table border=\"1\" class=\"dataframe\">\n",
       "  <thead>\n",
       "    <tr style=\"text-align: right;\">\n",
       "      <th></th>\n",
       "      <th>indicator</th>\n",
       "      <th>country</th>\n",
       "      <th>countryiso3code</th>\n",
       "      <th>date</th>\n",
       "      <th>value</th>\n",
       "      <th>unit</th>\n",
       "      <th>obs_status</th>\n",
       "      <th>decimal</th>\n",
       "      <th>country_name</th>\n",
       "    </tr>\n",
       "  </thead>\n",
       "  <tbody>\n",
       "    <tr>\n",
       "      <th>0</th>\n",
       "      <td>{'id': 'AG.LND.FRST.ZS', 'value': 'Forest area...</td>\n",
       "      <td>{'id': 'ZH', 'value': 'Africa Eastern and Sout...</td>\n",
       "      <td>AFE</td>\n",
       "      <td>2020</td>\n",
       "      <td>30.174186</td>\n",
       "      <td></td>\n",
       "      <td></td>\n",
       "      <td>1</td>\n",
       "      <td>None</td>\n",
       "    </tr>\n",
       "    <tr>\n",
       "      <th>1</th>\n",
       "      <td>{'id': 'AG.LND.FRST.ZS', 'value': 'Forest area...</td>\n",
       "      <td>{'id': 'ZH', 'value': 'Africa Eastern and Sout...</td>\n",
       "      <td>AFE</td>\n",
       "      <td>2019</td>\n",
       "      <td>30.391558</td>\n",
       "      <td></td>\n",
       "      <td></td>\n",
       "      <td>1</td>\n",
       "      <td>None</td>\n",
       "    </tr>\n",
       "    <tr>\n",
       "      <th>2</th>\n",
       "      <td>{'id': 'AG.LND.FRST.ZS', 'value': 'Forest area...</td>\n",
       "      <td>{'id': 'ZH', 'value': 'Africa Eastern and Sout...</td>\n",
       "      <td>AFE</td>\n",
       "      <td>2018</td>\n",
       "      <td>30.611444</td>\n",
       "      <td></td>\n",
       "      <td></td>\n",
       "      <td>1</td>\n",
       "      <td>None</td>\n",
       "    </tr>\n",
       "    <tr>\n",
       "      <th>3</th>\n",
       "      <td>{'id': 'AG.LND.FRST.ZS', 'value': 'Forest area...</td>\n",
       "      <td>{'id': 'ZH', 'value': 'Africa Eastern and Sout...</td>\n",
       "      <td>AFE</td>\n",
       "      <td>2017</td>\n",
       "      <td>30.824248</td>\n",
       "      <td></td>\n",
       "      <td></td>\n",
       "      <td>1</td>\n",
       "      <td>None</td>\n",
       "    </tr>\n",
       "    <tr>\n",
       "      <th>4</th>\n",
       "      <td>{'id': 'AG.LND.FRST.ZS', 'value': 'Forest area...</td>\n",
       "      <td>{'id': 'ZH', 'value': 'Africa Eastern and Sout...</td>\n",
       "      <td>AFE</td>\n",
       "      <td>2016</td>\n",
       "      <td>31.039613</td>\n",
       "      <td></td>\n",
       "      <td></td>\n",
       "      <td>1</td>\n",
       "      <td>None</td>\n",
       "    </tr>\n",
       "  </tbody>\n",
       "</table>\n",
       "</div>"
      ],
      "text/plain": [
       "                                           indicator  \\\n",
       "0  {'id': 'AG.LND.FRST.ZS', 'value': 'Forest area...   \n",
       "1  {'id': 'AG.LND.FRST.ZS', 'value': 'Forest area...   \n",
       "2  {'id': 'AG.LND.FRST.ZS', 'value': 'Forest area...   \n",
       "3  {'id': 'AG.LND.FRST.ZS', 'value': 'Forest area...   \n",
       "4  {'id': 'AG.LND.FRST.ZS', 'value': 'Forest area...   \n",
       "\n",
       "                                             country countryiso3code  date  \\\n",
       "0  {'id': 'ZH', 'value': 'Africa Eastern and Sout...             AFE  2020   \n",
       "1  {'id': 'ZH', 'value': 'Africa Eastern and Sout...             AFE  2019   \n",
       "2  {'id': 'ZH', 'value': 'Africa Eastern and Sout...             AFE  2018   \n",
       "3  {'id': 'ZH', 'value': 'Africa Eastern and Sout...             AFE  2017   \n",
       "4  {'id': 'ZH', 'value': 'Africa Eastern and Sout...             AFE  2016   \n",
       "\n",
       "       value unit obs_status  decimal country_name  \n",
       "0  30.174186                        1         None  \n",
       "1  30.391558                        1         None  \n",
       "2  30.611444                        1         None  \n",
       "3  30.824248                        1         None  \n",
       "4  31.039613                        1         None  "
      ]
     },
     "execution_count": 12,
     "metadata": {},
     "output_type": "execute_result"
    }
   ],
   "source": [
    "def country_code_to_name (row):\n",
    "    code = row ['countryiso3code']\n",
    "    try:\n",
    "        return pycountry.countries.get(alpha_3=code).name\n",
    "    except:\n",
    "        pass\n",
    "\n",
    "global_forest_df['country_name']=global_forest_df.apply(lambda row:country_code_to_name(row), axis=1)\n",
    "global_forest_df.head()"
   ]
  },
  {
   "cell_type": "code",
   "execution_count": 34,
   "id": "c51e903a",
   "metadata": {},
   "outputs": [],
   "source": [
    "x=global_forest_df.filter(items=['country_name','date','value'])\n",
    "x.head()\n",
    "x['clean_country_name'] = x['country_name'].apply(lambda c:clean_country_name(c))\n",
    "\n",
    "forest_valid_countries = x[x['clean_country_name'].isin(country_name_to_continent.keys())]\n",
    "\n",
    "\n",
    "forest_valid_countries.head()\n",
    "x.to_csv('forest.csv')"
   ]
  },
  {
   "cell_type": "code",
   "execution_count": null,
   "id": "2c5e09ae",
   "metadata": {},
   "outputs": [],
   "source": [
    "# add continent data to dataframe\n",
    "\n",
    "forest_valid_countries['continent'] = forest_valid_countries['country_name'].map(country_name_to_continent)\n",
    "\n",
    "avg_forest_coverage_by_continent = forest_valid_countries.groupby('continent')['value'].mean()\n",
    "print(avg_forest_coverage_by_continent)\n",
    "global_forest_df.info()"
   ]
  },
  {
   "cell_type": "markdown",
   "id": "26e8e9b3",
   "metadata": {},
   "source": [
    "UN Data on Population by sex and urban/rural residence between 2000 - 2020"
   ]
  },
  {
   "cell_type": "code",
   "execution_count": null,
   "id": "a0ef35a4",
   "metadata": {
    "scrolled": true
   },
   "outputs": [],
   "source": [
    "population = pd.read_csv(\"population_by_sex_residence.csv\", index_col = 0)\n",
    "population.head()"
   ]
  },
  {
   "cell_type": "code",
   "execution_count": null,
   "id": "7c3a19f5",
   "metadata": {
    "scrolled": true
   },
   "outputs": [],
   "source": [
    "population.columns\n",
    "population.reset_index(inplace=True)\n",
    "population.columns\n",
    "population.head()"
   ]
  },
  {
   "cell_type": "code",
   "execution_count": null,
   "id": "cf4b3749",
   "metadata": {},
   "outputs": [],
   "source": [
    "population = population.filter(items=['Country or Area','Year','Reliability','Value']).loc[(population['Reliability']=='Final figure, complete')]\n",
    "population['Year'] = population['Year'].astype(int)\n",
    "population = population.loc[(population['Year']>=2000) & (population['Year']<2021)]\n",
    "population.head()"
   ]
  },
  {
   "cell_type": "code",
   "execution_count": null,
   "id": "20092fba",
   "metadata": {},
   "outputs": [],
   "source": [
    "population_valid_countries = population[population['Country or Area'].isin(country_name_to_continent.keys())]\n",
    "population_valid_countries.head()"
   ]
  },
  {
   "cell_type": "code",
   "execution_count": null,
   "id": "b0d446ed",
   "metadata": {
    "scrolled": false
   },
   "outputs": [],
   "source": [
    "population['continent'] = population['Country or Area'].map(country_name_to_continent)\n",
    "population=population.rename(columns={'Value':'population value'})\n",
    "population.head()\n"
   ]
  },
  {
   "cell_type": "code",
   "execution_count": null,
   "id": "a8ec4fd0",
   "metadata": {},
   "outputs": [],
   "source": [
    "population.to_csv(\"populationWithContinent.csv\")"
   ]
  },
  {
   "cell_type": "code",
   "execution_count": null,
   "id": "176601b4",
   "metadata": {
    "scrolled": true
   },
   "outputs": [],
   "source": [
    "continent_population_data = population.groupby(['Year', 'continent']).sum('Value')\n",
    "continent_population_data.reset_index(inplace=True)\n",
    "continent_population_data.info()\n",
    "\n"
   ]
  },
  {
   "cell_type": "code",
   "execution_count": null,
   "id": "8057e5f5",
   "metadata": {},
   "outputs": [],
   "source": [
    "continent_population_data['population value'] = (continent_population_data['population value'] / 1000000).round(2)\n",
    "print(continent_population_data.values)"
   ]
  },
  {
   "cell_type": "code",
   "execution_count": null,
   "id": "d8ab0a14",
   "metadata": {},
   "outputs": [],
   "source": [
    "continent_forest_data = forest_valid_countries.groupby(['date', 'continent']).sum('value')\n",
    "continent_forest_data.reset_index(inplace=True)\n",
    "continent_forest_data['Year'] = continent_forest_data['date'].astype(int)\n",
    "continent_forest_data=continent_forest_data.rename(columns={'value':'forest coverage'})\n",
    "continent_forest_data.info()"
   ]
  },
  {
   "cell_type": "code",
   "execution_count": null,
   "id": "2954bbfc",
   "metadata": {},
   "outputs": [],
   "source": [
    "merged_df = pd.merge(continent_population_data, continent_forest_data, left_on=['continent','Year'], right_on=['continent', 'Year'], how='inner')\n",
    "print(merged_df.shape)\n",
    "merged_df.head()\n"
   ]
  },
  {
   "cell_type": "markdown",
   "id": "593906aa",
   "metadata": {},
   "source": [
    "Third dataset on food production"
   ]
  },
  {
   "cell_type": "code",
   "execution_count": null,
   "id": "0d7d6056",
   "metadata": {
    "scrolled": true
   },
   "outputs": [],
   "source": [
    "food = pd.read_csv(\"food_production.csv\", index_col = 0)\n",
    "food.head()"
   ]
  },
  {
   "cell_type": "code",
   "execution_count": null,
   "id": "7b6304d9",
   "metadata": {
    "scrolled": true
   },
   "outputs": [],
   "source": [
    "filtered_food= food.filter(items=['Area','Item','Element','Year','Unit','Value','Flag']).loc[(food['Flag']=='A')& (food['Element']=='Area harvested') & (food['Year']>=2000) & (food['Year']<2021)]\n",
    "food_summary=filtered_food.groupby(['Year', 'Area']).sum('Value')\n",
    "food_summary.reset_index(inplace=True)\n",
    "food_summary.head()\n",
    "\n",
    "\n",
    "food_valid_countries = food_summary[food_summary['Area'].isin(country_name_to_continent.keys())]\n",
    "print(food_valid_countries)"
   ]
  },
  {
   "cell_type": "code",
   "execution_count": null,
   "id": "f4724dd0",
   "metadata": {},
   "outputs": [],
   "source": [
    "country_counts_food = food_valid_countries['Area'].value_counts()\n",
    "filtered_food_valid_countries = food_valid_countries[food_valid_countries['Area'].isin(country_counts_food[country_counts_food == 21].index)]\n",
    "\n",
    "\n",
    "print(filtered_food_valid_countries)"
   ]
  },
  {
   "cell_type": "code",
   "execution_count": null,
   "id": "6c5c39df",
   "metadata": {},
   "outputs": [],
   "source": [
    "\n",
    "forest_valid_countries=forest_valid_countries.rename(columns={'value':'forest coverage %'})\n",
    "forest_valid_countries['Year'] = forest_valid_countries['date'].astype(int)\n",
    "forest_valid_countries.head()"
   ]
  },
  {
   "cell_type": "code",
   "execution_count": null,
   "id": "e226ca76",
   "metadata": {},
   "outputs": [],
   "source": [
    "country_counts_forest = forest_valid_countries['country_name'].value_counts()\n",
    "filtered_forest_countries = forest_valid_countries[forest_valid_countries['country_name'].isin(country_counts_forest[country_counts_forest == 21].index)]\n",
    "\n",
    "\n",
    "print(filtered_forest_countries)\n"
   ]
  },
  {
   "cell_type": "code",
   "execution_count": null,
   "id": "04780aed",
   "metadata": {
    "scrolled": true
   },
   "outputs": [],
   "source": [
    "filtered_forest_countries.groupby(['country_name']).count()"
   ]
  },
  {
   "cell_type": "code",
   "execution_count": null,
   "id": "d6804d88",
   "metadata": {},
   "outputs": [],
   "source": [
    "food_valid_countries['continent'] = food_valid_countries['Area'].map(country_name_to_continent)\n",
    "food_valid_countries=food_valid_countries.rename(columns={'Value':'Area harvested - ha'})\n",
    "food_valid_countries.head()"
   ]
  },
  {
   "cell_type": "code",
   "execution_count": null,
   "id": "3f86510f",
   "metadata": {
    "scrolled": true
   },
   "outputs": [],
   "source": [
    "population_valid_countries = population_valid_countries.groupby(['Year', 'Country or Area']).mean('population value')\n",
    "population_valid_countries.reset_index(inplace=True)\n",
    "population_valid_countries.head()"
   ]
  },
  {
   "cell_type": "code",
   "execution_count": null,
   "id": "dd7df614",
   "metadata": {},
   "outputs": [],
   "source": [
    "country_counts_population = population_valid_countries['Country or Area'].value_counts()\n",
    "filtered_countries = country_counts_population[country_counts_population == 21].index.tolist()\n"
   ]
  },
  {
   "cell_type": "code",
   "execution_count": null,
   "id": "5feb3c45",
   "metadata": {},
   "outputs": [],
   "source": [
    "\n",
    "filtered_population_valid_countries = population_valid_countries[population_valid_countries['Country or Area'].isin(filtered_countries)]\n",
    "filtered_population_valid_countries.head()"
   ]
  },
  {
   "cell_type": "code",
   "execution_count": null,
   "id": "b1223b59",
   "metadata": {},
   "outputs": [],
   "source": [
    "df_1 = pd.merge(forest_valid_countries, food_valid_countries, left_on=['country_name','Year'], right_on=['Area', 'Year'], how='inner')\n",
    "print(df_1.shape)\n",
    "df_1.head()"
   ]
  },
  {
   "cell_type": "code",
   "execution_count": null,
   "id": "3063361b",
   "metadata": {},
   "outputs": [],
   "source": [
    "df_2 = pd.merge(df_1, population_valid_countries, left_on=['country_name','Year'], right_on=['Country or Area', 'Year'], how='inner')\n",
    "print(df_2.shape)\n",
    "df_2.head()"
   ]
  },
  {
   "cell_type": "code",
   "execution_count": null,
   "id": "7ea5c064",
   "metadata": {},
   "outputs": [],
   "source": [
    "df_2.to_csv('merged_data.csv')"
   ]
  },
  {
   "cell_type": "code",
   "execution_count": null,
   "id": "327f0b8a",
   "metadata": {
    "scrolled": true
   },
   "outputs": [],
   "source": [
    "final_data= df_2.filter(items=['country_name','continent','Value','forest coverage %','Area harvested - ha', 'Year'])\n",
    "\n",
    "print(final_data.shape)\n",
    "final_data.head()"
   ]
  },
  {
   "cell_type": "code",
   "execution_count": null,
   "id": "92fd47f3",
   "metadata": {
    "scrolled": false
   },
   "outputs": [],
   "source": [
    "fig, ax = plt.subplots(figsize=(15,5))\n",
    "sns.barplot(data=final_data, y='Value', x='Year', hue='country_name')\n",
    "plt.title('Population')"
   ]
  },
  {
   "cell_type": "code",
   "execution_count": null,
   "id": "3d30d921",
   "metadata": {},
   "outputs": [],
   "source": [
    "df_3 = pd.merge(filtered_forest_countries, filtered_food_valid_countries, left_on=['country_name','Year'], right_on=['Area', 'Year'], how='inner')\n",
    "print(df_3.shape)\n",
    "df_3.head()"
   ]
  },
  {
   "cell_type": "code",
   "execution_count": null,
   "id": "bb622ded",
   "metadata": {
    "scrolled": true
   },
   "outputs": [],
   "source": [
    "df_4 = pd.merge(df_3, filtered_population_valid_countries, left_on=['country_name','Year'], right_on=['Country or Area', 'Year'], how='inner')\n",
    "print(df_4.shape)\n",
    "df_4.head()"
   ]
  },
  {
   "cell_type": "code",
   "execution_count": null,
   "id": "7cf2b4ed",
   "metadata": {
    "scrolled": true
   },
   "outputs": [],
   "source": [
    "df_4_final=df_4.rename(columns={'Value_x':'Area harvested - ha','Value_y':'Population' })\n",
    "df_4_final.head()"
   ]
  },
  {
   "cell_type": "code",
   "execution_count": null,
   "id": "80499d4c",
   "metadata": {},
   "outputs": [],
   "source": [
    "CAN = df_4_final['country_name'] == 'Canada'\n",
    "CAN_df_4 = df_4_final[CAN]"
   ]
  },
  {
   "cell_type": "code",
   "execution_count": null,
   "id": "1cba20f1",
   "metadata": {},
   "outputs": [],
   "source": [
    "fig, ax = plt.subplots(figsize=(15,5))\n",
    "sns.barplot(data=CAN_df_4, y='Area harvested - ha', x='Year', hue='country_name')\n",
    "plt.title('forest coverage %')"
   ]
  },
  {
   "cell_type": "code",
   "execution_count": null,
   "id": "6dee7d35",
   "metadata": {},
   "outputs": [],
   "source": [
    "df_4.to_csv('df_4.csv')"
   ]
  },
  {
   "cell_type": "code",
   "execution_count": null,
   "id": "e5954925",
   "metadata": {
    "scrolled": true
   },
   "outputs": [],
   "source": [
    "df_4_final_continents = df_4_final.groupby(['Year', 'continent']).sum('value')\n",
    "df_4_final_continents.reset_index(inplace=True)\n",
    "df_4_final_continents.head()"
   ]
  },
  {
   "cell_type": "code",
   "execution_count": null,
   "id": "7afd1634",
   "metadata": {},
   "outputs": [],
   "source": [
    "fig, ax = plt.subplots(figsize=(15,5))\n",
    "sns.barplot(data=df_4_final_continents, y='Population', x='Year', hue='continent')\n",
    "plt.title('Population')"
   ]
  },
  {
   "cell_type": "code",
   "execution_count": null,
   "id": "cd1dafc0",
   "metadata": {},
   "outputs": [],
   "source": [
    "\n"
   ]
  }
 ],
 "metadata": {
  "kernelspec": {
   "display_name": "Python 3",
   "language": "python",
   "name": "python3"
  },
  "language_info": {
   "codemirror_mode": {
    "name": "ipython",
    "version": 3
   },
   "file_extension": ".py",
   "mimetype": "text/x-python",
   "name": "python",
   "nbconvert_exporter": "python",
   "pygments_lexer": "ipython3",
   "version": "3.8.8"
  }
 },
 "nbformat": 4,
 "nbformat_minor": 5
}
